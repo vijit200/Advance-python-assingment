{
 "cells": [
  {
   "cell_type": "code",
   "execution_count": 5,
   "id": "33d79784",
   "metadata": {},
   "outputs": [
    {
     "data": {
      "text/plain": [
       "6765"
      ]
     },
     "execution_count": 5,
     "metadata": {},
     "output_type": "execute_result"
    }
   ],
   "source": [
    "\"\"\"Q1 In mathematics, the Fibonacci numbers, commonly denoted Fn, form a\n",
    "sequence, called the Fibonacci sequence, such that each number is the sum\n",
    "of the two preceding ones, starting from 0 and 1:\n",
    "\n",
    "The beginning of the sequence is this:\n",
    "0, 1, 1, 2, 3, 5, 8, 13, 21, 34, 55, 89, 144, ...\n",
    "The function fastFib(num) returns the fibonacci number Fn, of the given num\n",
    "as an argument.\"\"\"\n",
    "\n",
    "# Function for nth Fibonacci number\n",
    "def Fibonacci(n):\n",
    "    try:\n",
    "\n",
    "        if n < 0:\n",
    "            print(\"Incorrect input\")\n",
    "\n",
    "\n",
    "        elif n == 0:\n",
    "            return 0\n",
    "\n",
    "        elif n == 1 or n == 2:\n",
    "            return 1\n",
    "\n",
    "        else:\n",
    "            return Fibonacci(n-1) + Fibonacci(n-2)\n",
    "    except Exception as e:\n",
    "        print(e)\n",
    "\n",
    "\n",
    "Fibonacci(20)"
   ]
  },
  {
   "cell_type": "code",
   "execution_count": 23,
   "id": "26ab7b15",
   "metadata": {},
   "outputs": [],
   "source": [
    "\"\"\"2. Create a function that takes a strings characters as ASCII and returns each\n",
    "characters hexadecimal value as a string.\"\"\"\n",
    "\n",
    "def convert_to_hex(x):\n",
    "    try:\n",
    "        p = ''\n",
    "        l = []\n",
    "        k = []\n",
    "        for i in x:\n",
    "            l.append(i)\n",
    "        for j in l:\n",
    "            s = hex(ord(j))\n",
    "            p = p + s[2:] + ' '\n",
    "        return p\n",
    "    except Exception as e:\n",
    "        print(e)"
   ]
  },
  {
   "cell_type": "code",
   "execution_count": 25,
   "id": "2442708f",
   "metadata": {},
   "outputs": [
    {
     "data": {
      "text/plain": [
       "'4d 61 72 74 79 20 50 6f 70 70 69 6e 73 6f 6e '"
      ]
     },
     "execution_count": 25,
     "metadata": {},
     "output_type": "execute_result"
    }
   ],
   "source": [
    "convert_to_hex('Marty Poppinson')"
   ]
  },
  {
   "cell_type": "code",
   "execution_count": 28,
   "id": "fd649e21",
   "metadata": {},
   "outputs": [
    {
     "data": {
      "text/plain": [
       "'Hello World'"
      ]
     },
     "execution_count": 28,
     "metadata": {},
     "output_type": "execute_result"
    }
   ],
   "source": [
    "\"\"\"3. Someone has attempted to censor my strings by replacing every vowel\n",
    "with a *, l*k* th*s. Luckily, I&#39;ve been able to find the vowels that were\n",
    "removed.\n",
    "Given a censored string and a string of the censored vowels, return the\n",
    "original uncensored string.\"\"\"\n",
    "\n",
    "def uncensor(string, vowels):\n",
    "    try:\n",
    "        new_ = \"\"\n",
    "        counter = 0\n",
    "        for i in range(len(string)):\n",
    "            if string[i] == \"*\":\n",
    "                new_ += vowels[counter]\n",
    "                counter += 1\n",
    "            else:\n",
    "                new_ += string[i]\n",
    "        return new_\n",
    "    except Exception as e:\n",
    "        print(e)\n",
    "\n",
    "uncensor(\"H*ll* W*rld\", \"eoo\")\n"
   ]
  },
  {
   "cell_type": "code",
   "execution_count": null,
   "id": "6bfa954d",
   "metadata": {},
   "outputs": [],
   "source": [
    "\"\"\"4. Write a function that takes an IP address and returns the domain name\n",
    "using PTR DNS records.\"\"\"\n",
    "\n"
   ]
  },
  {
   "cell_type": "code",
   "execution_count": 32,
   "id": "3a998dcc",
   "metadata": {},
   "outputs": [],
   "source": [
    "\"\"\"5. Create a function that takes an integer n and returns the factorial of\n",
    "factorials. See below examples for a better understanding:\"\"\"\n",
    "\n",
    "def fact_of_fact(x):\n",
    "    try:\n",
    "        l = []\n",
    "        for i in range(1,x+1):\n",
    "            for j in range(1,i+1):\n",
    "                l.append(j)\n",
    "        count = 1\n",
    "        for j in l:\n",
    "            count = count*j\n",
    "        return count\n",
    "    except Exception as e:\n",
    "        print(e)"
   ]
  },
  {
   "cell_type": "code",
   "execution_count": 33,
   "id": "c8b9bc06",
   "metadata": {},
   "outputs": [
    {
     "data": {
      "text/plain": [
       "288"
      ]
     },
     "execution_count": 33,
     "metadata": {},
     "output_type": "execute_result"
    }
   ],
   "source": [
    "fact_of_fact(4)"
   ]
  },
  {
   "cell_type": "code",
   "execution_count": null,
   "id": "121a90f4",
   "metadata": {},
   "outputs": [],
   "source": []
  },
  {
   "cell_type": "code",
   "execution_count": null,
   "id": "b830f13f",
   "metadata": {},
   "outputs": [],
   "source": []
  },
  {
   "cell_type": "code",
   "execution_count": null,
   "id": "97b62612",
   "metadata": {},
   "outputs": [],
   "source": []
  }
 ],
 "metadata": {
  "kernelspec": {
   "display_name": "Python 3 (ipykernel)",
   "language": "python",
   "name": "python3"
  },
  "language_info": {
   "codemirror_mode": {
    "name": "ipython",
    "version": 3
   },
   "file_extension": ".py",
   "mimetype": "text/x-python",
   "name": "python",
   "nbconvert_exporter": "python",
   "pygments_lexer": "ipython3",
   "version": "3.9.7"
  }
 },
 "nbformat": 4,
 "nbformat_minor": 5
}
