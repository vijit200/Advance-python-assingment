{
 "cells": [
  {
   "cell_type": "code",
   "execution_count": 4,
   "id": "5a60eadf",
   "metadata": {},
   "outputs": [],
   "source": [
    "\"\"\"1. Create a function that takes a number n (integer greater than zero) as an\n",
    "argument, and returns 2 if n is odd and 8 if n is even.\n",
    "You can only use the following arithmetic operators: addition of numbers +,\n",
    "subtraction of numbers -, multiplication of number *, division of number /, and\n",
    "exponentiation **.\n",
    "You are not allowed to use any other methods in this challenge (i.e. no if\n",
    "statements, comparison operators, etc).\"\"\"\n",
    "\n",
    "def f(x):\n",
    "    try:\n",
    "        arr = [8,2]\n",
    "        return arr[x%2]\n",
    "    except Exception as e:\n",
    "        print(e)"
   ]
  },
  {
   "cell_type": "code",
   "execution_count": 5,
   "id": "f3885b3a",
   "metadata": {},
   "outputs": [
    {
     "data": {
      "text/plain": [
       "8"
      ]
     },
     "execution_count": 5,
     "metadata": {},
     "output_type": "execute_result"
    }
   ],
   "source": [
    "f(4)"
   ]
  },
  {
   "cell_type": "code",
   "execution_count": 15,
   "id": "e6c8accc",
   "metadata": {},
   "outputs": [],
   "source": [
    "\"\"\"2. Create a function that returns the majority vote in a list. A majority vote is\n",
    "an element that occurs &gt; N/2 times in a list (where N is the length of the list).\"\"\"\n",
    "\n",
    "def majority_vote(x):\n",
    "    try:\n",
    "        y = len(x)/2\n",
    "        for i in x:\n",
    "            s = x.count(i)\n",
    "            if s > y:\n",
    "                return i\n",
    "            else:\n",
    "                return 'none'\n",
    "    except Exception as e:\n",
    "        print(e)"
   ]
  },
  {
   "cell_type": "code",
   "execution_count": 16,
   "id": "f740996d",
   "metadata": {},
   "outputs": [
    {
     "data": {
      "text/plain": [
       "'none'"
      ]
     },
     "execution_count": 16,
     "metadata": {},
     "output_type": "execute_result"
    }
   ],
   "source": [
    "majority_vote(['A','B','A','B'])"
   ]
  },
  {
   "cell_type": "code",
   "execution_count": 25,
   "id": "e4546397",
   "metadata": {},
   "outputs": [],
   "source": [
    "\"\"\"3. Create a function that takes a string txt and censors any word from a given\n",
    "list lst. The text removed must be replaced by the given character char.\"\"\"\n",
    "\n",
    "def censor_string(x,y,z):\n",
    "    try:\n",
    "        s = x.split(' ')\n",
    "        r = ''\n",
    "        index = 0\n",
    "        star = ''\n",
    "        for i in range(len(s)):\n",
    "            for j in range(len(y)):\n",
    "                if s[i] == y[j]:\n",
    "                    s[index] = z * len(y[j])\n",
    "            index += 1\n",
    "        r = ' '.join(s)\n",
    "        return r\n",
    "    except Exception as e:\n",
    "        print(e)"
   ]
  },
  {
   "cell_type": "code",
   "execution_count": 26,
   "id": "7e06b78f",
   "metadata": {},
   "outputs": [
    {
     "data": {
      "text/plain": [
       "'----- is - wednesday!'"
      ]
     },
     "execution_count": 26,
     "metadata": {},
     "output_type": "execute_result"
    }
   ],
   "source": [
    "censor_string('Today is a wednesday!',['Today','a'],'-')"
   ]
  },
  {
   "cell_type": "code",
   "execution_count": 27,
   "id": "abc3b6ab",
   "metadata": {},
   "outputs": [
    {
     "data": {
      "text/plain": [
       "'The *** jumped **** the moon'"
      ]
     },
     "execution_count": 27,
     "metadata": {},
     "output_type": "execute_result"
    }
   ],
   "source": [
    "censor_string('The cow jumped over the moon',['cow','over'],'*')"
   ]
  },
  {
   "cell_type": "code",
   "execution_count": 82,
   "id": "fc28cb28",
   "metadata": {},
   "outputs": [],
   "source": [
    "\"\"\"4. In mathematics a Polydivisible Number (or magic number) is a number in a\n",
    "given number base with digits abcde... that has the following properties:\n",
    "- Its first digit a is not 0.\n",
    "- The number formed by its first two digits ab is a multiple of 2.\n",
    "- The number formed by its first three digits abc is a multiple of 3.\n",
    "- The number formed by its first four digits abcd is a multiple of 4.\n",
    "Create a function which takes an integer n and returns True if the given\n",
    "number is a Polydivisible Number and False otherwise.\"\"\"\n",
    "\n",
    "def is_polydivisible(x):\n",
    "    try:\n",
    "        x = str(x)\n",
    "        p = ''\n",
    "        l = []\n",
    "        a = []\n",
    "        for i in x:\n",
    "            p = p + i        \n",
    "            s = int(p)%len(p)\n",
    "            l.append(s)\n",
    "        d = list('0'*len(l))\n",
    "        for k in d:\n",
    "            a.append(int(k))\n",
    "        if l == a:\n",
    "            return True\n",
    "        else:\n",
    "            return False\n",
    "    except Exception as e:\n",
    "        print(e)\n",
    "        "
   ]
  },
  {
   "cell_type": "code",
   "execution_count": 83,
   "id": "7ed1fd0f",
   "metadata": {},
   "outputs": [
    {
     "data": {
      "text/plain": [
       "False"
      ]
     },
     "execution_count": 83,
     "metadata": {},
     "output_type": "execute_result"
    }
   ],
   "source": [
    "is_polydivisible(123220)"
   ]
  },
  {
   "cell_type": "code",
   "execution_count": 152,
   "id": "9ad4ccd9",
   "metadata": {},
   "outputs": [],
   "source": [
    "\"\"\"5. Create a function that takes a list of numbers and returns the sum of all\n",
    "prime numbers in the list.\"\"\"\n",
    "\n",
    "def sum_prime(x):\n",
    "    try:\n",
    "        l = []\n",
    "        for i in x:\n",
    "            for j in range(2,i):\n",
    "                if i % j == 0:\n",
    "                    break\n",
    "                else:\n",
    "                    l.append(i)\n",
    "        return sum(set(l))\n",
    "    except Exception as e:\n",
    "        print(e)"
   ]
  },
  {
   "cell_type": "code",
   "execution_count": 153,
   "id": "0fde3fbe",
   "metadata": {},
   "outputs": [
    {
     "data": {
      "text/plain": [
       "85"
      ]
     },
     "execution_count": 153,
     "metadata": {},
     "output_type": "execute_result"
    }
   ],
   "source": [
    "sum_prime([2,3,4,11,20,50,71])"
   ]
  },
  {
   "cell_type": "code",
   "execution_count": null,
   "id": "c7e8deb0",
   "metadata": {},
   "outputs": [],
   "source": []
  },
  {
   "cell_type": "code",
   "execution_count": null,
   "id": "90490c3a",
   "metadata": {},
   "outputs": [],
   "source": []
  },
  {
   "cell_type": "code",
   "execution_count": null,
   "id": "66df747d",
   "metadata": {},
   "outputs": [],
   "source": [
    "\n"
   ]
  },
  {
   "cell_type": "code",
   "execution_count": null,
   "id": "7739fe80",
   "metadata": {},
   "outputs": [],
   "source": []
  },
  {
   "cell_type": "code",
   "execution_count": null,
   "id": "c688a679",
   "metadata": {},
   "outputs": [],
   "source": []
  }
 ],
 "metadata": {
  "kernelspec": {
   "display_name": "Python 3 (ipykernel)",
   "language": "python",
   "name": "python3"
  },
  "language_info": {
   "codemirror_mode": {
    "name": "ipython",
    "version": 3
   },
   "file_extension": ".py",
   "mimetype": "text/x-python",
   "name": "python",
   "nbconvert_exporter": "python",
   "pygments_lexer": "ipython3",
   "version": "3.9.7"
  }
 },
 "nbformat": 4,
 "nbformat_minor": 5
}
