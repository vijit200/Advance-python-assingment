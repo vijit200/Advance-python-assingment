{
 "cells": [
  {
   "cell_type": "code",
   "execution_count": 53,
   "id": "8cdf3dcc",
   "metadata": {},
   "outputs": [],
   "source": [
    "\"\"\"1. Create a function to perform basic arithmetic operations that includes\n",
    "addition, subtraction, multiplication and division on a string number (e.g. &quot;12 +\n",
    "24&quot; or &quot;23 - 21&quot; or &quot;12 // 12&quot; or &quot;12 * 21&quot;).\n",
    "Here, we have 1 followed by a space, operator followed by another space\n",
    "and 2. For the challenge, we are going to have only two numbers between 1\n",
    "valid operator. The return value should be a number.\n",
    "eval() is not allowed. In case of division, whenever the second number equals\n",
    "&quot;0&quot; return -1.\"\"\"\n",
    "\n",
    "def arethmetic_operation(x):\n",
    "    try:\n",
    "        s = x.split(' ')\n",
    "        l =[]\n",
    "        for i in s:\n",
    "            if i.isalnum():\n",
    "                l.append(int(i))\n",
    "            else:\n",
    "                l.append(i)\n",
    "        if l[1] == '*':\n",
    "            return l[0] * l[2]\n",
    "        if l[1] == '+':\n",
    "            return l[0] + l[2] \n",
    "        if l[1] == '-':\n",
    "            return l[0] - l[2]\n",
    "        if l[1] == '//':\n",
    "            if l[2] == 0:\n",
    "                return -1\n",
    "            else:\n",
    "                return l[0]/l[2]\n",
    "    except Exception as e:\n",
    "        print(e)\n",
    "    "
   ]
  },
  {
   "cell_type": "code",
   "execution_count": 54,
   "id": "56358a07",
   "metadata": {},
   "outputs": [
    {
     "data": {
      "text/plain": [
       "-1"
      ]
     },
     "execution_count": 54,
     "metadata": {},
     "output_type": "execute_result"
    }
   ],
   "source": [
    "arethmetic_operation('12 // 0')"
   ]
  },
  {
   "cell_type": "code",
   "execution_count": 64,
   "id": "9a37a60a",
   "metadata": {},
   "outputs": [],
   "source": [
    "\"\"\"2. Write a function that takes the coordinates of three points in the form of a\n",
    "2d array and returns the perimeter of the triangle. The given points are the\n",
    "vertices of a triangle on a two-dimensional plane.\"\"\"\n",
    "import math as md\n",
    "def perimiter(x):\n",
    "    try:\n",
    "        z = []\n",
    "        l = x[0] + x[1]\n",
    "        l1 = x[1] + x[2]\n",
    "        l2 = x[0] + x[2]\n",
    "        s = md.sqrt((l[2]-l[0])**2+(l[3]-l[1])**2)\n",
    "        s1 = md.sqrt((l1[2]-l1[0])**2+(l1[3]-l1[1])**2)\n",
    "        s2 = md.sqrt((l2[2]-l2[0])**2+(l2[3]-l2[1])**2)\n",
    "        z.append(s)\n",
    "        z.append(s1)\n",
    "        z.append(s2)\n",
    "        return round(sum(z),2)\n",
    "    except Exception as e:\n",
    "        print(e)"
   ]
  },
  {
   "cell_type": "code",
   "execution_count": 65,
   "id": "d23f4b36",
   "metadata": {},
   "outputs": [
    {
     "data": {
      "text/plain": [
       "47.08"
      ]
     },
     "execution_count": 65,
     "metadata": {},
     "output_type": "execute_result"
    }
   ],
   "source": [
    "perimiter([[15,7],[5,22],[11,1]])"
   ]
  },
  {
   "cell_type": "code",
   "execution_count": 68,
   "id": "5e3e22c9",
   "metadata": {},
   "outputs": [
    {
     "data": {
      "text/plain": [
       "68.28"
      ]
     },
     "execution_count": 68,
     "metadata": {},
     "output_type": "execute_result"
    }
   ],
   "source": [
    "perimiter([[-10,-10],[10,10],[-10,10]])"
   ]
  },
  {
   "cell_type": "code",
   "execution_count": 87,
   "id": "ff4cc650",
   "metadata": {},
   "outputs": [],
   "source": [
    "\"\"\"3. A city skyline can be represented as a 2-D list with 1s representing\n",
    "buildings. In the example below, the height of the tallest building is 4 (second-\n",
    "most right column).\"\"\"\n",
    "\n",
    "def tallest_skyscrapers(x):\n",
    "    try:\n",
    "        count = 0\n",
    "        for i in x:\n",
    "            if 1 in i:\n",
    "                count = count +1\n",
    "        return count\n",
    "    except Exception as e:\n",
    "        print(e)\n"
   ]
  },
  {
   "cell_type": "code",
   "execution_count": 88,
   "id": "58246b66",
   "metadata": {},
   "outputs": [
    {
     "data": {
      "text/plain": [
       "2"
      ]
     },
     "execution_count": 88,
     "metadata": {},
     "output_type": "execute_result"
    }
   ],
   "source": [
    "tallest_skyscrapers([[0,0,0,0],[0,0,0,0],[1,1,1,1],[1,1,1,0]])"
   ]
  },
  {
   "cell_type": "code",
   "execution_count": 100,
   "id": "f1a22262",
   "metadata": {},
   "outputs": [],
   "source": [
    "\"\"\"4. A financial institution provides professional services to banks and claims\n",
    "charges from the customers based on the number of man-days provided.\n",
    "Internally, it has set a scheme to motivate and reward staff to meet and\n",
    "exceed targeted billable utilization and revenues by paying a bonus for each\n",
    "day claimed from customers in excess of a threshold target.\n",
    "This quarterly scheme is calculated with a threshold target of 32 days per\n",
    "quarter, and the incentive payment for each billable day in excess of such\n",
    "threshold target is shown as follows:\n",
    "Days Bonus\n",
    "0 to 32 days Zero\n",
    "33 to 40 days SGD$325 per billable day\n",
    "41 to 48 days SGD$550 per billable day\n",
    "Greater than 48 days SGD$600 per billable day\n",
    "\n",
    "Please note that incentive payment is calculated progressively. As an\n",
    "example, if an employee reached total billable days of 45 in a quarter, his/her\n",
    "incentive payment is computed as follows:\n",
    "32*0 + 8*325 + 5*550 = 5350\n",
    "Write a function to read the billable days of an employee and return the bonus\n",
    "he/she has obtained in that quarter.\n",
    "\"\"\"\n",
    "\n",
    "def bonus(x):\n",
    "    try:\n",
    "        if type(x)==int:\n",
    "            if x<=32:\n",
    "                return 0\n",
    "            elif x>=33 and x<=40:\n",
    "                s = ( x-32)*325\n",
    "                return s\n",
    "            elif x>=41 and x<=48:\n",
    "                s= 8*325 + (x-40)*550\n",
    "                return s\n",
    "            else:\n",
    "                s = 8*325 + 8*550+(x-48)*600\n",
    "                return s\n",
    "    except Exception as e:\n",
    "        print(e)"
   ]
  },
  {
   "cell_type": "code",
   "execution_count": 101,
   "id": "fc83c94e",
   "metadata": {},
   "outputs": [
    {
     "data": {
      "text/plain": [
       "8200"
      ]
     },
     "execution_count": 101,
     "metadata": {},
     "output_type": "execute_result"
    }
   ],
   "source": [
    "bonus(50)"
   ]
  },
  {
   "cell_type": "code",
   "execution_count": 112,
   "id": "387546c8",
   "metadata": {},
   "outputs": [],
   "source": [
    "\"\"\"5. A number is said to be Disarium if the sum of its digits raised to their\n",
    "respective positions is the number itself.\n",
    "Create a function that determines whether a number is a Disarium or not.\"\"\"\n",
    "\n",
    "def check_disarium(x):\n",
    "\n",
    "        try:\n",
    "            x = str(x) \n",
    "            y =[]\n",
    "            for i in x:\n",
    "                y.append(int(i))\n",
    "            b =[]\n",
    "            count=1\n",
    "            for j in y:\n",
    "                a = j**count\n",
    "                count += 1 \n",
    "                b.append(a)\n",
    "            s = sum(b)\n",
    "            n = str(s)\n",
    "            if n == x :\n",
    "                print(True)\n",
    "            else:\n",
    "                print(False)\n",
    "        except Exception as e:\n",
    "            print(e)"
   ]
  },
  {
   "cell_type": "code",
   "execution_count": 113,
   "id": "61d3a9dd",
   "metadata": {},
   "outputs": [
    {
     "name": "stdout",
     "output_type": "stream",
     "text": [
      "True\n"
     ]
    }
   ],
   "source": [
    "check_disarium(518)"
   ]
  },
  {
   "cell_type": "code",
   "execution_count": 122,
   "id": "031a7bfe",
   "metadata": {},
   "outputs": [],
   "source": []
  },
  {
   "cell_type": "code",
   "execution_count": null,
   "id": "196f8941",
   "metadata": {},
   "outputs": [],
   "source": []
  },
  {
   "cell_type": "code",
   "execution_count": null,
   "id": "4edbbcf8",
   "metadata": {},
   "outputs": [],
   "source": []
  },
  {
   "cell_type": "code",
   "execution_count": null,
   "id": "197b2af1",
   "metadata": {},
   "outputs": [],
   "source": []
  }
 ],
 "metadata": {
  "kernelspec": {
   "display_name": "Python 3 (ipykernel)",
   "language": "python",
   "name": "python3"
  },
  "language_info": {
   "codemirror_mode": {
    "name": "ipython",
    "version": 3
   },
   "file_extension": ".py",
   "mimetype": "text/x-python",
   "name": "python",
   "nbconvert_exporter": "python",
   "pygments_lexer": "ipython3",
   "version": "3.9.7"
  }
 },
 "nbformat": 4,
 "nbformat_minor": 5
}
