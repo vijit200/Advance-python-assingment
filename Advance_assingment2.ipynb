{
 "cells": [
  {
   "cell_type": "code",
   "execution_count": 1,
   "id": "7d275691",
   "metadata": {},
   "outputs": [],
   "source": [
    "\"\"\"1. Write a function that takes a positive integer num and calculates how many\n",
    "dots exist in a pentagonal shape around the center dot on the Nth iteration.\n",
    "In the image below you can see the first iteration is only a single dot. On the\n",
    "second, there are 6 dots. On the third, there are 16 dots, and on the fourth\n",
    "there are 31 dots.\"\"\"\n",
    "\n",
    "def PentagonalNumber(num): \n",
    "    try:\n",
    "        num = num - 1\n",
    "        number = ((5*(num**2)) + (5*num) + 2) / 2 \n",
    "        return int(number)\n",
    "    except Exception as e:\n",
    "        print(e)"
   ]
  },
  {
   "cell_type": "code",
   "execution_count": 2,
   "id": "c7ae2076",
   "metadata": {},
   "outputs": [
    {
     "data": {
      "text/plain": [
       "141"
      ]
     },
     "execution_count": 2,
     "metadata": {},
     "output_type": "execute_result"
    }
   ],
   "source": [
    "PentagonalNumber(8)"
   ]
  },
  {
   "cell_type": "code",
   "execution_count": 10,
   "id": "11e78249",
   "metadata": {},
   "outputs": [],
   "source": [
    "\"\"\"2. Make a function that encrypts a given input with these steps:\"\"\"\n",
    "def encrypt(x):\n",
    "    try:\n",
    "        y = x[::-1]\n",
    "        p = ''\n",
    "        d = {\n",
    "            'a':0,'A':0,'e':1,'E':1,'i':2,'I':2,'o':3 ,'O':3,'U':4,'u':4}\n",
    "        for i in y:\n",
    "            for j in d.items():\n",
    "                if i == j[0]:\n",
    "                    y = y.replace(i,str(j[1]))\n",
    "        return p+y+'aca'\n",
    "    except Exception as e:\n",
    "        print(e)"
   ]
  },
  {
   "cell_type": "code",
   "execution_count": 18,
   "id": "5ee2e80d",
   "metadata": {},
   "outputs": [
    {
     "data": {
      "text/plain": [
       "'0n0n0baca'"
      ]
     },
     "execution_count": 18,
     "metadata": {},
     "output_type": "execute_result"
    }
   ],
   "source": [
    "encrypt('banana')"
   ]
  },
  {
   "cell_type": "code",
   "execution_count": 19,
   "id": "0c4bf9e4",
   "metadata": {},
   "outputs": [],
   "source": [
    "\"\"\"3.Given the month and year as numbers, return whether that month contains\n",
    "a Friday 13th.\"\"\"\n",
    "\n",
    "import datetime\n",
    "from datetime import datetime\n",
    "import calendar\n",
    "def has_friday(month,year):\n",
    "    try:\n",
    "        date = '{} 13 {}'.format(month ,year)\n",
    "        s = datetime.strptime(date ,'%m %d %Y').weekday()\n",
    "        return calendar.day_name[s] == 'Friday'\n",
    "    except Exception as e:\n",
    "        print(e)"
   ]
  },
  {
   "cell_type": "code",
   "execution_count": 20,
   "id": "dfb2ef1e",
   "metadata": {},
   "outputs": [
    {
     "data": {
      "text/plain": [
       "True"
      ]
     },
     "execution_count": 20,
     "metadata": {},
     "output_type": "execute_result"
    }
   ],
   "source": [
    "has_friday(3,2020)"
   ]
  },
  {
   "cell_type": "code",
   "execution_count": 15,
   "id": "a41ffa48",
   "metadata": {},
   "outputs": [],
   "source": [
    "\"\"\"4. Write a regular expression that will help us count how many bad cookies\n",
    "are produced every day. You must use RegEx negative lookbehind.\"\"\"\n",
    "\n",
    "import re\n",
    "def count_badcookies(x):\n",
    "    try:\n",
    "        count = 0\n",
    "        pattern = r'bad cookies'\n",
    "        for i in x:\n",
    "            if re.match(pattern,i):\n",
    "                count = count + 1\n",
    "        if count == 0:\n",
    "            print('there is no bad cookies')\n",
    "        else:\n",
    "            return count\n",
    "    except Exception as e:\n",
    "        print(e)"
   ]
  },
  {
   "cell_type": "code",
   "execution_count": 16,
   "id": "876265ee",
   "metadata": {},
   "outputs": [
    {
     "data": {
      "text/plain": [
       "2"
      ]
     },
     "execution_count": 16,
     "metadata": {},
     "output_type": "execute_result"
    }
   ],
   "source": [
    "count_badcookies(['bad cookies','good cookies','bad cookies'])"
   ]
  },
  {
   "cell_type": "code",
   "execution_count": 17,
   "id": "fefd2e5f",
   "metadata": {},
   "outputs": [
    {
     "name": "stdout",
     "output_type": "stream",
     "text": [
      "there is no bad cookies\n"
     ]
    }
   ],
   "source": [
    "count_badcookies(['good cookies'])"
   ]
  },
  {
   "cell_type": "code",
   "execution_count": 25,
   "id": "190bb795",
   "metadata": {},
   "outputs": [],
   "source": [
    "\"\"\"5. Given a list of words in the singular form, return a set of those words in the\n",
    "plural form if they appear more than once in the list.\"\"\"\n",
    "\n",
    "def purals(x):\n",
    "    try:\n",
    "        l = []\n",
    "        for i in x:\n",
    "            if x.count(i)>1:\n",
    "                l.append(i+'s')\n",
    "            else:\n",
    "                l.append(i)\n",
    "        return set(l)\n",
    "    except Exception as e:\n",
    "        print(e)"
   ]
  },
  {
   "cell_type": "code",
   "execution_count": 26,
   "id": "c10a5f61",
   "metadata": {},
   "outputs": [
    {
     "data": {
      "text/plain": [
       "{'cows', 'pig'}"
      ]
     },
     "execution_count": 26,
     "metadata": {},
     "output_type": "execute_result"
    }
   ],
   "source": [
    "purals(['cow','pig','cow'])"
   ]
  },
  {
   "cell_type": "code",
   "execution_count": 27,
   "id": "2ce3e0b8",
   "metadata": {},
   "outputs": [
    {
     "data": {
      "text/plain": [
       "{'arm', 'chair', 'pencil'}"
      ]
     },
     "execution_count": 27,
     "metadata": {},
     "output_type": "execute_result"
    }
   ],
   "source": [
    "purals(['chair','pencil','arm'])"
   ]
  },
  {
   "cell_type": "code",
   "execution_count": null,
   "id": "59c041e4",
   "metadata": {},
   "outputs": [],
   "source": []
  }
 ],
 "metadata": {
  "kernelspec": {
   "display_name": "Python 3 (ipykernel)",
   "language": "python",
   "name": "python3"
  },
  "language_info": {
   "codemirror_mode": {
    "name": "ipython",
    "version": 3
   },
   "file_extension": ".py",
   "mimetype": "text/x-python",
   "name": "python",
   "nbconvert_exporter": "python",
   "pygments_lexer": "ipython3",
   "version": "3.9.7"
  }
 },
 "nbformat": 4,
 "nbformat_minor": 5
}
