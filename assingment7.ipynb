{
 "cells": [
  {
   "cell_type": "code",
   "execution_count": 9,
   "id": "54aef415",
   "metadata": {
    "scrolled": true
   },
   "outputs": [],
   "source": [
    "\"\"\"1. Write a function that counts how many concentric layers a rug.\n",
    "\"\"\"\n",
    "\n",
    "def count_layer(l):\n",
    "    if type(l)== list:\n",
    "        x = []\n",
    "\n",
    "        for i in l:\n",
    "            if i not in x:\n",
    "                x.append(i)\n",
    "        return(len(x))\n",
    "    else:\n",
    "        return 'plzz enter concentric list'"
   ]
  },
  {
   "cell_type": "code",
   "execution_count": 10,
   "id": "37193ac2",
   "metadata": {},
   "outputs": [
    {
     "data": {
      "text/plain": [
       "5"
      ]
     },
     "execution_count": 10,
     "metadata": {},
     "output_type": "execute_result"
    }
   ],
   "source": [
    "l = [\"AAAAAAAAAAA\",\n",
    "\"AABBBBBBBAA\",\n",
    "\"AABCCCCCBAA\",\n",
    "\"AABCAAACBAA\",\n",
    "\"AABCADACBAA\",\n",
    "\"AABCAAACBAA\",\n",
    "\"AABCCCCCBAA\",\n",
    "\"AABBBBBBBAA\",\n",
    "\"AAAAAAAAAAA\"]\n",
    "\n",
    "count_layer(l)"
   ]
  },
  {
   "cell_type": "code",
   "execution_count": 5,
   "id": "a1019b7c",
   "metadata": {},
   "outputs": [],
   "source": [
    "\"\"\"2. There are many different styles of music and many albums exhibit multiple\n",
    "styles. Create a function that takes a list of musical styles from albums and\n",
    "returns how many styles are unique.\"\"\"\n",
    "\n",
    "def unique_styles(x):\n",
    "    a = []\n",
    "    for i in x:\n",
    "        k = i.split(',')\n",
    "        for j in k:\n",
    "            a.append(j)\n",
    "    return len(set(a))"
   ]
  },
  {
   "cell_type": "code",
   "execution_count": 8,
   "id": "fda0a3c5",
   "metadata": {},
   "outputs": [
    {
     "data": {
      "text/plain": [
       "9"
      ]
     },
     "execution_count": 8,
     "metadata": {},
     "output_type": "execute_result"
    }
   ],
   "source": [
    "unique_styles([\"Dub,Dancehall\",\"Industrial,Heavy Metal\",\"Techno,Dubstep\",\"Synth-pop,Euro-Disco\",\"Industrial,Techno,Minimal\"])"
   ]
  },
  {
   "cell_type": "code",
   "execution_count": 13,
   "id": "d5d43b52",
   "metadata": {},
   "outputs": [],
   "source": [
    "\"\"\"Create a function that finds a target number in a list of prime numbers.\n",
    "Implement a binary search algorithm in your function. The target number will\n",
    "be from 2 through 97. If the target is prime then return yes else return no.\n",
    "\"\"\"\n",
    "\n",
    "\n",
    "def is_prime(n):\n",
    "    c = [2,3,5,7,11,13,17,19,23,29,31,37,41,43,47,53,59,61,67,71,73,79,83,89,97]\n",
    "    l = 0\n",
    "    u = len(c)-1\n",
    "    while l<=u:\n",
    "        mid = (l+u)//2\n",
    "        if c[mid] == n:\n",
    "            if n in c:\n",
    "                return 'yes'\n",
    "        else:\n",
    "            if c[mid]<n:\n",
    "                l = mid+1\n",
    "            else:\n",
    "                u = mid-1\n",
    "    if n not in c:\n",
    "        return 'no'\n"
   ]
  },
  {
   "cell_type": "code",
   "execution_count": 18,
   "id": "1ad8f552",
   "metadata": {},
   "outputs": [
    {
     "data": {
      "text/plain": [
       "'yes'"
      ]
     },
     "execution_count": 18,
     "metadata": {},
     "output_type": "execute_result"
    }
   ],
   "source": [
    "is_prime(67)"
   ]
  },
  {
   "cell_type": "code",
   "execution_count": 30,
   "id": "2a3dd582",
   "metadata": {},
   "outputs": [],
   "source": [
    "\"\"\"Create a function that takes in n, a, b and returns the number of positive\n",
    "values raised to the nth power that lie in the range [a, b], inclusive.\"\"\"\n",
    "\n",
    "def power_range(n,a,b):\n",
    "    count = 0\n",
    "    for i in range(b):\n",
    "        if i ** n in range(a,b+1):\n",
    "            print('{}^{} lies between {},{} '.format(i,n,a,b))\n",
    "            count += 1\n",
    "    print('total is {}'.format(count))"
   ]
  },
  {
   "cell_type": "code",
   "execution_count": 31,
   "id": "43bae709",
   "metadata": {},
   "outputs": [
    {
     "name": "stdout",
     "output_type": "stream",
     "text": [
      "4^4 lies between 250,1300 \n",
      "5^4 lies between 250,1300 \n",
      "6^4 lies between 250,1300 \n",
      "total is 3\n"
     ]
    }
   ],
   "source": [
    "power_range(4,250,1300)"
   ]
  },
  {
   "cell_type": "code",
   "execution_count": 3,
   "id": "9d2da1c2",
   "metadata": {},
   "outputs": [],
   "source": [
    "\"\"\"Given a number, return the difference between the maximum and minimum\n",
    "numbers that can be formed when the digits are rearranged.\"\"\"\n",
    "\n",
    "\n",
    "def rearranged_difference(x):\n",
    "    a = str(x)\n",
    "    p = ''.join(sorted(a))\n",
    "    d = ''.join(sorted(a,reverse=True))\n",
    "    return int(d) - int(p)"
   ]
  },
  {
   "cell_type": "code",
   "execution_count": 4,
   "id": "9745f8fe",
   "metadata": {},
   "outputs": [
    {
     "data": {
      "text/plain": [
       "760833"
      ]
     },
     "execution_count": 4,
     "metadata": {},
     "output_type": "execute_result"
    }
   ],
   "source": [
    "rearranged_difference(972882)"
   ]
  },
  {
   "cell_type": "code",
   "execution_count": 5,
   "id": "f3b8f6ce",
   "metadata": {},
   "outputs": [
    {
     "data": {
      "text/plain": [
       "90981"
      ]
     },
     "execution_count": 5,
     "metadata": {},
     "output_type": "execute_result"
    }
   ],
   "source": [
    "rearranged_difference(90010)"
   ]
  },
  {
   "cell_type": "code",
   "execution_count": null,
   "id": "86afcfe1",
   "metadata": {},
   "outputs": [],
   "source": []
  },
  {
   "cell_type": "code",
   "execution_count": null,
   "id": "e5df7af5",
   "metadata": {},
   "outputs": [],
   "source": []
  },
  {
   "cell_type": "code",
   "execution_count": null,
   "id": "4a7c95e7",
   "metadata": {},
   "outputs": [],
   "source": []
  }
 ],
 "metadata": {
  "kernelspec": {
   "display_name": "Python 3 (ipykernel)",
   "language": "python",
   "name": "python3"
  },
  "language_info": {
   "codemirror_mode": {
    "name": "ipython",
    "version": 3
   },
   "file_extension": ".py",
   "mimetype": "text/x-python",
   "name": "python",
   "nbconvert_exporter": "python",
   "pygments_lexer": "ipython3",
   "version": "3.9.7"
  }
 },
 "nbformat": 4,
 "nbformat_minor": 5
}
