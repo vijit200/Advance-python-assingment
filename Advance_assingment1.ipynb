{
 "cells": [
  {
   "cell_type": "code",
   "execution_count": 8,
   "id": "77e3ae09",
   "metadata": {},
   "outputs": [],
   "source": [
    "\"\"\"1. Write a function that takes a list of lists and returns the value of all of the\n",
    "symbols in it, where each symbol adds or takes something from the total\n",
    "score. Symbol values:\n",
    "# = 5\n",
    "O = 3\n",
    "X = 1\n",
    "! = -1\n",
    "!! = -3\n",
    "!!! = -5\n",
    "A list of lists containing 2 #s, a O, and a !!! would equal (0 + 5 + 5 + 3 - 5) 8.\n",
    "If the final score is negative, return 0 (e.g. 3 #s, 3 !!s, 2 !!!s and a X would be\n",
    "(0 + 5 + 5 + 5 - 3 - 3 - 3 - 5 - 5 + 1) -3, so return 0.\"\"\"\n",
    "\n",
    "def check_score(x):\n",
    "    try:\n",
    "        l = []\n",
    "        if type(x) == list:\n",
    "            for  i in x:\n",
    "                if type(i) == list:\n",
    "                    for j in range(len(i)):\n",
    "                        if i[j] == '#':\n",
    "                            l.append(5)\n",
    "                        elif i[j] == 'O':\n",
    "                            l.append(3)\n",
    "                        elif i[j] == 'X':\n",
    "                            l.append(1)\n",
    "                        elif i[j] == '!':\n",
    "                            l.append(-1)\n",
    "                        elif i[j] == '!!':\n",
    "                            l.append(-3)\n",
    "                        elif i[j] == '!!!':\n",
    "                            l.append(-5)\n",
    "                        else:\n",
    "                            print(' plzz enter #,!,O,X,!!,!!! only')\n",
    "        else:\n",
    "            print('plzz enter list inside list')\n",
    "        return sum(l)\n",
    "    except Exception as e:\n",
    "        print(e)"
   ]
  },
  {
   "cell_type": "code",
   "execution_count": 9,
   "id": "c5abdfc2",
   "metadata": {},
   "outputs": [
    {
     "data": {
      "text/plain": [
       "8"
      ]
     },
     "execution_count": 9,
     "metadata": {},
     "output_type": "execute_result"
    }
   ],
   "source": [
    "check_score([['#','#'],['O'],['!!!']])"
   ]
  },
  {
   "cell_type": "code",
   "execution_count": 21,
   "id": "0c8944d9",
   "metadata": {},
   "outputs": [],
   "source": [
    "\"\"\"2. Create a function that takes a variable number of arguments, each\n",
    "argument representing the number of items in a group, and returns the\n",
    "number of permutations (combinations) of items that you could get by taking\n",
    "one item from each group.\"\"\"\n",
    "\n",
    "def combination(*args):\n",
    "    try:\n",
    "        count = 1\n",
    "        for i in args:\n",
    "            if type(i) == int:\n",
    "                count = count * i\n",
    "            else:\n",
    "                print('plzz enter int')\n",
    "        return count\n",
    "    except Exception as e:\n",
    "        print(e)"
   ]
  },
  {
   "cell_type": "code",
   "execution_count": 22,
   "id": "f42399e7",
   "metadata": {},
   "outputs": [
    {
     "data": {
      "text/plain": [
       "6"
      ]
     },
     "execution_count": 22,
     "metadata": {},
     "output_type": "execute_result"
    }
   ],
   "source": [
    "combination(2,3)"
   ]
  },
  {
   "cell_type": "code",
   "execution_count": 53,
   "id": "5f48b670",
   "metadata": {},
   "outputs": [],
   "source": [
    "\"\"\"3. Create a function that takes a string as an argument and returns the Morse\n",
    "code equivalent.\"\"\"\n",
    "\n",
    "def encode_morse(x):\n",
    "    try:\n",
    "        p = ''\n",
    "        x = x.upper()\n",
    "        d = {\n",
    "            'A':'.-','B':'-...','C':'-.-','D':'-..','E':'.','F':'..-.',\n",
    "            'G':'--.','H':'....','I':'..','J':'.---','K':'-.-','L':'.-..',\n",
    "            'M':'--','N':'-.','O':'___','P':'.--.','Q':'--.-','R':'.-.',\n",
    "            'S':'...','T':'-','U':'..-','V':'...-','W':'.--','X':'-..-',\n",
    "            'Y':'-.--','Z':'--..',' ':' ','0':'-----','1':'.----','2':'..--',\n",
    "            '3':'...--','4':'....-','5':'.....','6':'-....','7':'--...',\n",
    "            '8':'---..','9':'----.','&':'.-...','\"\"':'.----.','@':'.--.-.',\n",
    "            ')':'-.--.-','(':'-.--.',':':'---...',',':'--..--','=':'-...-',\n",
    "            '!':'-.-.--','.':',',':':'.-.-.-','-':'-....-','+':'.-.-.','?':'..--..',\n",
    "            '/':'-..-.'\n",
    "        }\n",
    "        for i in x:\n",
    "            for j in d.items():\n",
    "                if i == j[0]:\n",
    "                    p = p +j[1]\n",
    "        return p\n",
    "    except Exception as e:\n",
    "        print(e)"
   ]
  },
  {
   "cell_type": "code",
   "execution_count": 54,
   "id": "67a67511",
   "metadata": {},
   "outputs": [
    {
     "data": {
      "text/plain": [
       "'......-...--. --.-.-.--'"
      ]
     },
     "execution_count": 54,
     "metadata": {},
     "output_type": "execute_result"
    }
   ],
   "source": [
    "encode_morse('HELP ME!')"
   ]
  },
  {
   "cell_type": "code",
   "execution_count": 60,
   "id": "e2611829",
   "metadata": {},
   "outputs": [],
   "source": [
    "\"\"\"4. Write a function that takes a number and returns True if it&#39;s a prime; False\n",
    "otherwise. The number can be 2^64-1 (2 to the power of 63, not XOR). With\n",
    "the standard technique it would be O(2^64-1), which is much too large for the\n",
    "10 second time limit.\"\"\"\n",
    "\n",
    "def prime(x):\n",
    "    try:\n",
    "        if type(x) == int:\n",
    "            for i in range(2,x):\n",
    "                if x%i  == 0:\n",
    "                    return False\n",
    "                else :\n",
    "                    return True\n",
    "    except Exception as e:\n",
    "        print(e)"
   ]
  },
  {
   "cell_type": "code",
   "execution_count": 61,
   "id": "006f5fb4",
   "metadata": {},
   "outputs": [
    {
     "data": {
      "text/plain": [
       "True"
      ]
     },
     "execution_count": 61,
     "metadata": {},
     "output_type": "execute_result"
    }
   ],
   "source": [
    "prime(56963)"
   ]
  },
  {
   "cell_type": "code",
   "execution_count": 80,
   "id": "397bf978",
   "metadata": {},
   "outputs": [],
   "source": [
    "\"\"\"5. Create a function that converts a word to a bitstring and then to a boolean\n",
    "list based on the following criteria:\n",
    "1. Locate the position of the letter in the English alphabet (from 1 to 26).\n",
    "2. Odd positions will be represented as 1 and 0 otherwise.\n",
    "3. Convert the represented positions to boolean values, 1 for True and 0\n",
    "for False.\n",
    "4. Store the conversions into an array.\"\"\"\n",
    "\n",
    "def to_boolean_list(x):\n",
    "    try:\n",
    "        d = {\n",
    "            'a':1,'b':2,'c':3,'d':4,'e':5,'f':6,'g':7,'h':8,'i':9,\n",
    "             'j':10,'k':11,'l':12,'m':13,'n':14,'o':15,'p':16,'q':17,\n",
    "            'r':18,'s':19,'t':20,'u':21,'v':22,'w':23,'x':24,'y':25,'z':26\n",
    "        }\n",
    "        x = x.lower()\n",
    "        l = []\n",
    "        for i in x:\n",
    "            for j in d.items():\n",
    "                if i == j[0]:\n",
    "                    if int(j[1])%2 == 0:\n",
    "                        l.append(False)\n",
    "                    else:\n",
    "                        l.append(True)\n",
    "        return l\n",
    "    except Exception as e:\n",
    "        print(e)"
   ]
  },
  {
   "cell_type": "code",
   "execution_count": 81,
   "id": "fdfdb840",
   "metadata": {},
   "outputs": [
    {
     "data": {
      "text/plain": [
       "[False, True, True, False]"
      ]
     },
     "execution_count": 81,
     "metadata": {},
     "output_type": "execute_result"
    }
   ],
   "source": [
    "to_boolean_list('deep')"
   ]
  },
  {
   "cell_type": "code",
   "execution_count": null,
   "id": "b5efe7fa",
   "metadata": {},
   "outputs": [],
   "source": [
    "\n"
   ]
  },
  {
   "cell_type": "code",
   "execution_count": null,
   "id": "2b42177f",
   "metadata": {},
   "outputs": [],
   "source": []
  },
  {
   "cell_type": "code",
   "execution_count": null,
   "id": "572fef40",
   "metadata": {},
   "outputs": [],
   "source": []
  },
  {
   "cell_type": "code",
   "execution_count": null,
   "id": "e8b8869c",
   "metadata": {},
   "outputs": [],
   "source": []
  },
  {
   "cell_type": "code",
   "execution_count": null,
   "id": "824c35ed",
   "metadata": {},
   "outputs": [],
   "source": []
  }
 ],
 "metadata": {
  "kernelspec": {
   "display_name": "Python 3 (ipykernel)",
   "language": "python",
   "name": "python3"
  },
  "language_info": {
   "codemirror_mode": {
    "name": "ipython",
    "version": 3
   },
   "file_extension": ".py",
   "mimetype": "text/x-python",
   "name": "python",
   "nbconvert_exporter": "python",
   "pygments_lexer": "ipython3",
   "version": "3.9.7"
  }
 },
 "nbformat": 4,
 "nbformat_minor": 5
}
