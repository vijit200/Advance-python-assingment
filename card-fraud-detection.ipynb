{
 "cells": [
  {
   "cell_type": "code",
   "execution_count": 1,
   "id": "dbaec9f4",
   "metadata": {
    "execution": {
     "iopub.execute_input": "2022-06-05T11:49:52.834009Z",
     "iopub.status.busy": "2022-06-05T11:49:52.833435Z",
     "iopub.status.idle": "2022-06-05T11:49:53.816214Z",
     "shell.execute_reply": "2022-06-05T11:49:53.815567Z"
    },
    "papermill": {
     "duration": 1.004525,
     "end_time": "2022-06-05T11:49:53.818533",
     "exception": false,
     "start_time": "2022-06-05T11:49:52.814008",
     "status": "completed"
    },
    "tags": []
   },
   "outputs": [],
   "source": [
    "import pandas as pd\n",
    "import numpy as np \n",
    "import seaborn as sns\n",
    "import matplotlib.pyplot as plt \n",
    "%matplotlib inline"
   ]
  },
  {
   "cell_type": "code",
   "execution_count": 2,
   "id": "35981c56",
   "metadata": {
    "execution": {
     "iopub.execute_input": "2022-06-05T11:49:53.853419Z",
     "iopub.status.busy": "2022-06-05T11:49:53.853013Z",
     "iopub.status.idle": "2022-06-05T11:49:53.857617Z",
     "shell.execute_reply": "2022-06-05T11:49:53.856814Z"
    },
    "papermill": {
     "duration": 0.02429,
     "end_time": "2022-06-05T11:49:53.859583",
     "exception": false,
     "start_time": "2022-06-05T11:49:53.835293",
     "status": "completed"
    },
    "tags": []
   },
   "outputs": [],
   "source": [
    "pd.pandas.set_option('display.max_columns',None)"
   ]
  },
  {
   "cell_type": "code",
   "execution_count": 3,
   "id": "76eec013",
   "metadata": {
    "execution": {
     "iopub.execute_input": "2022-06-05T11:49:53.894224Z",
     "iopub.status.busy": "2022-06-05T11:49:53.893313Z",
     "iopub.status.idle": "2022-06-05T11:49:55.750084Z",
     "shell.execute_reply": "2022-06-05T11:49:55.749131Z"
    },
    "papermill": {
     "duration": 1.876689,
     "end_time": "2022-06-05T11:49:55.752791",
     "exception": false,
     "start_time": "2022-06-05T11:49:53.876102",
     "status": "completed"
    },
    "tags": []
   },
   "outputs": [],
   "source": [
    "df=pd.read_csv('/kaggle/input/credit-card-fraud/card_transdata.csv')"
   ]
  },
  {
   "cell_type": "code",
   "execution_count": 4,
   "id": "997dce9d",
   "metadata": {
    "execution": {
     "iopub.execute_input": "2022-06-05T11:49:55.787961Z",
     "iopub.status.busy": "2022-06-05T11:49:55.787620Z",
     "iopub.status.idle": "2022-06-05T11:49:55.810106Z",
     "shell.execute_reply": "2022-06-05T11:49:55.809293Z"
    },
    "papermill": {
     "duration": 0.042207,
     "end_time": "2022-06-05T11:49:55.812001",
     "exception": false,
     "start_time": "2022-06-05T11:49:55.769794",
     "status": "completed"
    },
    "tags": []
   },
   "outputs": [
    {
     "data": {
      "text/html": [
       "<div>\n",
       "<style scoped>\n",
       "    .dataframe tbody tr th:only-of-type {\n",
       "        vertical-align: middle;\n",
       "    }\n",
       "\n",
       "    .dataframe tbody tr th {\n",
       "        vertical-align: top;\n",
       "    }\n",
       "\n",
       "    .dataframe thead th {\n",
       "        text-align: right;\n",
       "    }\n",
       "</style>\n",
       "<table border=\"1\" class=\"dataframe\">\n",
       "  <thead>\n",
       "    <tr style=\"text-align: right;\">\n",
       "      <th></th>\n",
       "      <th>distance_from_home</th>\n",
       "      <th>distance_from_last_transaction</th>\n",
       "      <th>ratio_to_median_purchase_price</th>\n",
       "      <th>repeat_retailer</th>\n",
       "      <th>used_chip</th>\n",
       "      <th>used_pin_number</th>\n",
       "      <th>online_order</th>\n",
       "      <th>fraud</th>\n",
       "    </tr>\n",
       "  </thead>\n",
       "  <tbody>\n",
       "    <tr>\n",
       "      <th>0</th>\n",
       "      <td>57.877857</td>\n",
       "      <td>0.311140</td>\n",
       "      <td>1.945940</td>\n",
       "      <td>1.0</td>\n",
       "      <td>1.0</td>\n",
       "      <td>0.0</td>\n",
       "      <td>0.0</td>\n",
       "      <td>0.0</td>\n",
       "    </tr>\n",
       "    <tr>\n",
       "      <th>1</th>\n",
       "      <td>10.829943</td>\n",
       "      <td>0.175592</td>\n",
       "      <td>1.294219</td>\n",
       "      <td>1.0</td>\n",
       "      <td>0.0</td>\n",
       "      <td>0.0</td>\n",
       "      <td>0.0</td>\n",
       "      <td>0.0</td>\n",
       "    </tr>\n",
       "    <tr>\n",
       "      <th>2</th>\n",
       "      <td>5.091079</td>\n",
       "      <td>0.805153</td>\n",
       "      <td>0.427715</td>\n",
       "      <td>1.0</td>\n",
       "      <td>0.0</td>\n",
       "      <td>0.0</td>\n",
       "      <td>1.0</td>\n",
       "      <td>0.0</td>\n",
       "    </tr>\n",
       "    <tr>\n",
       "      <th>3</th>\n",
       "      <td>2.247564</td>\n",
       "      <td>5.600044</td>\n",
       "      <td>0.362663</td>\n",
       "      <td>1.0</td>\n",
       "      <td>1.0</td>\n",
       "      <td>0.0</td>\n",
       "      <td>1.0</td>\n",
       "      <td>0.0</td>\n",
       "    </tr>\n",
       "    <tr>\n",
       "      <th>4</th>\n",
       "      <td>44.190936</td>\n",
       "      <td>0.566486</td>\n",
       "      <td>2.222767</td>\n",
       "      <td>1.0</td>\n",
       "      <td>1.0</td>\n",
       "      <td>0.0</td>\n",
       "      <td>1.0</td>\n",
       "      <td>0.0</td>\n",
       "    </tr>\n",
       "  </tbody>\n",
       "</table>\n",
       "</div>"
      ],
      "text/plain": [
       "   distance_from_home  distance_from_last_transaction  \\\n",
       "0           57.877857                        0.311140   \n",
       "1           10.829943                        0.175592   \n",
       "2            5.091079                        0.805153   \n",
       "3            2.247564                        5.600044   \n",
       "4           44.190936                        0.566486   \n",
       "\n",
       "   ratio_to_median_purchase_price  repeat_retailer  used_chip  \\\n",
       "0                        1.945940              1.0        1.0   \n",
       "1                        1.294219              1.0        0.0   \n",
       "2                        0.427715              1.0        0.0   \n",
       "3                        0.362663              1.0        1.0   \n",
       "4                        2.222767              1.0        1.0   \n",
       "\n",
       "   used_pin_number  online_order  fraud  \n",
       "0              0.0           0.0    0.0  \n",
       "1              0.0           0.0    0.0  \n",
       "2              0.0           1.0    0.0  \n",
       "3              0.0           1.0    0.0  \n",
       "4              0.0           1.0    0.0  "
      ]
     },
     "execution_count": 4,
     "metadata": {},
     "output_type": "execute_result"
    }
   ],
   "source": [
    "df.head()"
   ]
  },
  {
   "cell_type": "code",
   "execution_count": 5,
   "id": "f1be2b74",
   "metadata": {
    "execution": {
     "iopub.execute_input": "2022-06-05T11:49:55.847131Z",
     "iopub.status.busy": "2022-06-05T11:49:55.846755Z",
     "iopub.status.idle": "2022-06-05T11:49:55.852183Z",
     "shell.execute_reply": "2022-06-05T11:49:55.851423Z"
    },
    "papermill": {
     "duration": 0.025539,
     "end_time": "2022-06-05T11:49:55.854131",
     "exception": false,
     "start_time": "2022-06-05T11:49:55.828592",
     "status": "completed"
    },
    "tags": []
   },
   "outputs": [
    {
     "data": {
      "text/plain": [
       "(1000000, 8)"
      ]
     },
     "execution_count": 5,
     "metadata": {},
     "output_type": "execute_result"
    }
   ],
   "source": [
    "df.shape"
   ]
  },
  {
   "cell_type": "markdown",
   "id": "089ea905",
   "metadata": {
    "papermill": {
     "duration": 0.01949,
     "end_time": "2022-06-05T11:49:55.892602",
     "exception": false,
     "start_time": "2022-06-05T11:49:55.873112",
     "status": "completed"
    },
    "tags": []
   },
   "source": [
    "# About Dataset\n",
    "Digital payments are evolving, but so are cyber criminals.\n",
    "\n",
    "According to the Data Breach Index, more than 5 million records are being stolen on a daily basis, a concerning statistic that shows - fraud is still very common both for Card-Present and Card-not Present type of payments.\n",
    "\n",
    "In today’s digital world where trillions of Card transaction happens per day, detection of fraud is challenging.\n",
    "\n",
    "This Dataset sourced by some unnamed institute."
   ]
  },
  {
   "cell_type": "markdown",
   "id": "889cdcf6",
   "metadata": {
    "papermill": {
     "duration": 0.019973,
     "end_time": "2022-06-05T11:49:55.933294",
     "exception": false,
     "start_time": "2022-06-05T11:49:55.913321",
     "status": "completed"
    },
    "tags": []
   },
   "source": [
    "# Feature Explanation:\n",
    "\n",
    "distancefromhome - the distance from home where the transaction happened.\n",
    "\n",
    "distancefromlast_transaction - the distance from last transaction happened.\n",
    "\n",
    "ratiotomedianpurchaseprice - Ratio of purchased price transaction to median purchase price.\n",
    "\n",
    "repeat_retailer - Is the transaction happened from same retailer.\n",
    "\n",
    "used_chip - Is the transaction through chip (credit card).\n",
    "\n",
    "usedpinnumber - Is the transaction happened by using PIN number.\n",
    "\n",
    "online_order - Is the transaction an online order.\n",
    "\n",
    "fraud - Is the transaction fraudulent."
   ]
  },
  {
   "cell_type": "markdown",
   "id": "0186e27d",
   "metadata": {
    "papermill": {
     "duration": 0.019458,
     "end_time": "2022-06-05T11:49:55.973358",
     "exception": false,
     "start_time": "2022-06-05T11:49:55.953900",
     "status": "completed"
    },
    "tags": []
   },
   "source": [
    "# Data Cleaning"
   ]
  },
  {
   "cell_type": "code",
   "execution_count": 6,
   "id": "f0f29d32",
   "metadata": {
    "execution": {
     "iopub.execute_input": "2022-06-05T11:49:56.010209Z",
     "iopub.status.busy": "2022-06-05T11:49:56.009809Z",
     "iopub.status.idle": "2022-06-05T11:49:56.036367Z",
     "shell.execute_reply": "2022-06-05T11:49:56.035420Z"
    },
    "papermill": {
     "duration": 0.046486,
     "end_time": "2022-06-05T11:49:56.038309",
     "exception": false,
     "start_time": "2022-06-05T11:49:55.991823",
     "status": "completed"
    },
    "tags": []
   },
   "outputs": [
    {
     "data": {
      "text/plain": [
       "distance_from_home                0\n",
       "distance_from_last_transaction    0\n",
       "ratio_to_median_purchase_price    0\n",
       "repeat_retailer                   0\n",
       "used_chip                         0\n",
       "used_pin_number                   0\n",
       "online_order                      0\n",
       "fraud                             0\n",
       "dtype: int64"
      ]
     },
     "execution_count": 6,
     "metadata": {},
     "output_type": "execute_result"
    }
   ],
   "source": [
    "df.isnull().sum()"
   ]
  },
  {
   "cell_type": "code",
   "execution_count": 7,
   "id": "5f3db3ce",
   "metadata": {
    "execution": {
     "iopub.execute_input": "2022-06-05T11:49:56.074069Z",
     "iopub.status.busy": "2022-06-05T11:49:56.073687Z",
     "iopub.status.idle": "2022-06-05T11:49:56.111968Z",
     "shell.execute_reply": "2022-06-05T11:49:56.111032Z"
    },
    "papermill": {
     "duration": 0.060458,
     "end_time": "2022-06-05T11:49:56.116078",
     "exception": false,
     "start_time": "2022-06-05T11:49:56.055620",
     "status": "completed"
    },
    "tags": []
   },
   "outputs": [
    {
     "name": "stdout",
     "output_type": "stream",
     "text": [
      "<class 'pandas.core.frame.DataFrame'>\n",
      "RangeIndex: 1000000 entries, 0 to 999999\n",
      "Data columns (total 8 columns):\n",
      " #   Column                          Non-Null Count    Dtype  \n",
      "---  ------                          --------------    -----  \n",
      " 0   distance_from_home              1000000 non-null  float64\n",
      " 1   distance_from_last_transaction  1000000 non-null  float64\n",
      " 2   ratio_to_median_purchase_price  1000000 non-null  float64\n",
      " 3   repeat_retailer                 1000000 non-null  float64\n",
      " 4   used_chip                       1000000 non-null  float64\n",
      " 5   used_pin_number                 1000000 non-null  float64\n",
      " 6   online_order                    1000000 non-null  float64\n",
      " 7   fraud                           1000000 non-null  float64\n",
      "dtypes: float64(8)\n",
      "memory usage: 61.0 MB\n"
     ]
    }
   ],
   "source": [
    "df.info()"
   ]
  },
  {
   "cell_type": "code",
   "execution_count": 8,
   "id": "f0a99a5b",
   "metadata": {
    "execution": {
     "iopub.execute_input": "2022-06-05T11:49:56.152055Z",
     "iopub.status.busy": "2022-06-05T11:49:56.151452Z",
     "iopub.status.idle": "2022-06-05T11:49:56.157177Z",
     "shell.execute_reply": "2022-06-05T11:49:56.156364Z"
    },
    "papermill": {
     "duration": 0.025128,
     "end_time": "2022-06-05T11:49:56.158988",
     "exception": false,
     "start_time": "2022-06-05T11:49:56.133860",
     "status": "completed"
    },
    "tags": []
   },
   "outputs": [
    {
     "data": {
      "text/plain": [
       "Index(['distance_from_home', 'distance_from_last_transaction',\n",
       "       'ratio_to_median_purchase_price', 'repeat_retailer', 'used_chip',\n",
       "       'used_pin_number', 'online_order', 'fraud'],\n",
       "      dtype='object')"
      ]
     },
     "execution_count": 8,
     "metadata": {},
     "output_type": "execute_result"
    }
   ],
   "source": [
    "df.columns"
   ]
  },
  {
   "cell_type": "code",
   "execution_count": 9,
   "id": "3ca12fea",
   "metadata": {
    "execution": {
     "iopub.execute_input": "2022-06-05T11:49:56.194938Z",
     "iopub.status.busy": "2022-06-05T11:49:56.194266Z",
     "iopub.status.idle": "2022-06-05T11:49:56.301804Z",
     "shell.execute_reply": "2022-06-05T11:49:56.300893Z"
    },
    "papermill": {
     "duration": 0.127858,
     "end_time": "2022-06-05T11:49:56.303895",
     "exception": false,
     "start_time": "2022-06-05T11:49:56.176037",
     "status": "completed"
    },
    "scrolled": true,
    "tags": []
   },
   "outputs": [
    {
     "data": {
      "text/plain": [
       "fraud  online_order  used_pin_number\n",
       "0.0    0.0           0.0                309558\n",
       "                     1.0                 35198\n",
       "       1.0           0.0                502704\n",
       "                     1.0                 65137\n",
       "1.0    0.0           0.0                  4691\n",
       "                     1.0                     1\n",
       "       1.0           0.0                 82439\n",
       "                     1.0                   272\n",
       "dtype: int64"
      ]
     },
     "execution_count": 9,
     "metadata": {},
     "output_type": "execute_result"
    }
   ],
   "source": [
    "df[['fraud','online_order','used_pin_number']].groupby(['fraud','online_order','used_pin_number']).size()"
   ]
  },
  {
   "cell_type": "markdown",
   "id": "27cf1f49",
   "metadata": {
    "papermill": {
     "duration": 0.016899,
     "end_time": "2022-06-05T11:49:56.338226",
     "exception": false,
     "start_time": "2022-06-05T11:49:56.321327",
     "status": "completed"
    },
    "tags": []
   },
   "source": [
    "the person who use online trasaction without pin get in fraud"
   ]
  },
  {
   "cell_type": "code",
   "execution_count": 10,
   "id": "07e9245d",
   "metadata": {
    "execution": {
     "iopub.execute_input": "2022-06-05T11:49:56.375350Z",
     "iopub.status.busy": "2022-06-05T11:49:56.374870Z",
     "iopub.status.idle": "2022-06-05T11:49:56.455198Z",
     "shell.execute_reply": "2022-06-05T11:49:56.454356Z"
    },
    "papermill": {
     "duration": 0.101451,
     "end_time": "2022-06-05T11:49:56.457355",
     "exception": false,
     "start_time": "2022-06-05T11:49:56.355904",
     "status": "completed"
    },
    "tags": []
   },
   "outputs": [
    {
     "data": {
      "text/plain": [
       "fraud  used_pin_number\n",
       "0.0    0.0                812262\n",
       "       1.0                100335\n",
       "1.0    0.0                 87130\n",
       "       1.0                   273\n",
       "dtype: int64"
      ]
     },
     "execution_count": 10,
     "metadata": {},
     "output_type": "execute_result"
    }
   ],
   "source": [
    "df[['fraud','used_pin_number']].groupby(['fraud','used_pin_number']).size()"
   ]
  },
  {
   "cell_type": "markdown",
   "id": "13280e65",
   "metadata": {
    "papermill": {
     "duration": 0.017643,
     "end_time": "2022-06-05T11:49:56.492620",
     "exception": false,
     "start_time": "2022-06-05T11:49:56.474977",
     "status": "completed"
    },
    "tags": []
   },
   "source": [
    "this shows pin has less chance to get fraud"
   ]
  },
  {
   "cell_type": "code",
   "execution_count": 11,
   "id": "bdeaba81",
   "metadata": {
    "execution": {
     "iopub.execute_input": "2022-06-05T11:49:56.529457Z",
     "iopub.status.busy": "2022-06-05T11:49:56.529049Z",
     "iopub.status.idle": "2022-06-05T11:49:56.592907Z",
     "shell.execute_reply": "2022-06-05T11:49:56.592276Z"
    },
    "papermill": {
     "duration": 0.084782,
     "end_time": "2022-06-05T11:49:56.594886",
     "exception": false,
     "start_time": "2022-06-05T11:49:56.510104",
     "status": "completed"
    },
    "tags": []
   },
   "outputs": [
    {
     "data": {
      "text/plain": [
       "fraud  used_chip\n",
       "0.0    0.0          584608\n",
       "       1.0          327989\n",
       "1.0    0.0           64993\n",
       "       1.0           22410\n",
       "dtype: int64"
      ]
     },
     "execution_count": 11,
     "metadata": {},
     "output_type": "execute_result"
    }
   ],
   "source": [
    "df[['fraud','used_chip']].groupby(['fraud','used_chip']).size()"
   ]
  },
  {
   "cell_type": "code",
   "execution_count": 12,
   "id": "d58fd687",
   "metadata": {
    "execution": {
     "iopub.execute_input": "2022-06-05T11:49:56.631078Z",
     "iopub.status.busy": "2022-06-05T11:49:56.630203Z",
     "iopub.status.idle": "2022-06-05T11:49:56.693721Z",
     "shell.execute_reply": "2022-06-05T11:49:56.692804Z"
    },
    "papermill": {
     "duration": 0.083527,
     "end_time": "2022-06-05T11:49:56.695848",
     "exception": false,
     "start_time": "2022-06-05T11:49:56.612321",
     "status": "completed"
    },
    "tags": []
   },
   "outputs": [
    {
     "data": {
      "text/plain": [
       "fraud  repeat_retailer\n",
       "0.0    0.0                107986\n",
       "       1.0                804611\n",
       "1.0    0.0                 10478\n",
       "       1.0                 76925\n",
       "dtype: int64"
      ]
     },
     "execution_count": 12,
     "metadata": {},
     "output_type": "execute_result"
    }
   ],
   "source": [
    "df[['fraud','repeat_retailer']].groupby(['fraud','repeat_retailer']).size()"
   ]
  },
  {
   "cell_type": "code",
   "execution_count": 13,
   "id": "7b9e4e7a",
   "metadata": {
    "execution": {
     "iopub.execute_input": "2022-06-05T11:49:56.733016Z",
     "iopub.status.busy": "2022-06-05T11:49:56.732678Z",
     "iopub.status.idle": "2022-06-05T11:49:56.748945Z",
     "shell.execute_reply": "2022-06-05T11:49:56.748201Z"
    },
    "papermill": {
     "duration": 0.037251,
     "end_time": "2022-06-05T11:49:56.750888",
     "exception": false,
     "start_time": "2022-06-05T11:49:56.713637",
     "status": "completed"
    },
    "tags": []
   },
   "outputs": [
    {
     "data": {
      "text/plain": [
       "0.0    912597\n",
       "1.0     87403\n",
       "Name: fraud, dtype: int64"
      ]
     },
     "execution_count": 13,
     "metadata": {},
     "output_type": "execute_result"
    }
   ],
   "source": [
    "df['fraud'].value_counts()"
   ]
  },
  {
   "cell_type": "markdown",
   "id": "e8b8cf06",
   "metadata": {
    "papermill": {
     "duration": 0.017245,
     "end_time": "2022-06-05T11:49:56.785839",
     "exception": false,
     "start_time": "2022-06-05T11:49:56.768594",
     "status": "completed"
    },
    "tags": []
   },
   "source": [
    "# Numeric"
   ]
  },
  {
   "cell_type": "code",
   "execution_count": 14,
   "id": "42d82b59",
   "metadata": {
    "execution": {
     "iopub.execute_input": "2022-06-05T11:49:56.822500Z",
     "iopub.status.busy": "2022-06-05T11:49:56.822104Z",
     "iopub.status.idle": "2022-06-05T11:49:57.025629Z",
     "shell.execute_reply": "2022-06-05T11:49:57.024833Z"
    },
    "papermill": {
     "duration": 0.224319,
     "end_time": "2022-06-05T11:49:57.027835",
     "exception": false,
     "start_time": "2022-06-05T11:49:56.803516",
     "status": "completed"
    },
    "tags": []
   },
   "outputs": [],
   "source": [
    "num_fea = []\n",
    "for feature in df.columns:\n",
    "    if len(df[feature].unique())<15:\n",
    "        num_fea.append(feature)"
   ]
  },
  {
   "cell_type": "code",
   "execution_count": 15,
   "id": "0a659a22",
   "metadata": {
    "execution": {
     "iopub.execute_input": "2022-06-05T11:49:57.065145Z",
     "iopub.status.busy": "2022-06-05T11:49:57.064769Z",
     "iopub.status.idle": "2022-06-05T11:49:57.070247Z",
     "shell.execute_reply": "2022-06-05T11:49:57.069485Z"
    },
    "papermill": {
     "duration": 0.026386,
     "end_time": "2022-06-05T11:49:57.072166",
     "exception": false,
     "start_time": "2022-06-05T11:49:57.045780",
     "status": "completed"
    },
    "tags": []
   },
   "outputs": [
    {
     "data": {
      "text/plain": [
       "['repeat_retailer', 'used_chip', 'used_pin_number', 'online_order', 'fraud']"
      ]
     },
     "execution_count": 15,
     "metadata": {},
     "output_type": "execute_result"
    }
   ],
   "source": [
    "num_fea"
   ]
  },
  {
   "cell_type": "markdown",
   "id": "a27b6d45",
   "metadata": {
    "papermill": {
     "duration": 0.017581,
     "end_time": "2022-06-05T11:49:57.107688",
     "exception": false,
     "start_time": "2022-06-05T11:49:57.090107",
     "status": "completed"
    },
    "tags": []
   },
   "source": [
    "# Continous"
   ]
  },
  {
   "cell_type": "code",
   "execution_count": 16,
   "id": "1b385a22",
   "metadata": {
    "execution": {
     "iopub.execute_input": "2022-06-05T11:49:57.144744Z",
     "iopub.status.busy": "2022-06-05T11:49:57.144382Z",
     "iopub.status.idle": "2022-06-05T11:49:57.148721Z",
     "shell.execute_reply": "2022-06-05T11:49:57.147908Z"
    },
    "papermill": {
     "duration": 0.025169,
     "end_time": "2022-06-05T11:49:57.150584",
     "exception": false,
     "start_time": "2022-06-05T11:49:57.125415",
     "status": "completed"
    },
    "tags": []
   },
   "outputs": [],
   "source": [
    "cont_num = []\n",
    "for feature in df.columns:\n",
    "    if feature not in num_fea:\n",
    "        cont_num.append(feature)"
   ]
  },
  {
   "cell_type": "code",
   "execution_count": 17,
   "id": "2da4e23d",
   "metadata": {
    "execution": {
     "iopub.execute_input": "2022-06-05T11:49:57.187075Z",
     "iopub.status.busy": "2022-06-05T11:49:57.186714Z",
     "iopub.status.idle": "2022-06-05T11:49:57.192154Z",
     "shell.execute_reply": "2022-06-05T11:49:57.191303Z"
    },
    "papermill": {
     "duration": 0.026093,
     "end_time": "2022-06-05T11:49:57.194065",
     "exception": false,
     "start_time": "2022-06-05T11:49:57.167972",
     "status": "completed"
    },
    "tags": []
   },
   "outputs": [
    {
     "data": {
      "text/plain": [
       "['distance_from_home',\n",
       " 'distance_from_last_transaction',\n",
       " 'ratio_to_median_purchase_price']"
      ]
     },
     "execution_count": 17,
     "metadata": {},
     "output_type": "execute_result"
    }
   ],
   "source": [
    "cont_num"
   ]
  },
  {
   "cell_type": "markdown",
   "id": "a27376a5",
   "metadata": {
    "papermill": {
     "duration": 0.017546,
     "end_time": "2022-06-05T11:49:57.229416",
     "exception": false,
     "start_time": "2022-06-05T11:49:57.211870",
     "status": "completed"
    },
    "tags": []
   },
   "source": [
    "# ploting bar plot"
   ]
  },
  {
   "cell_type": "code",
   "execution_count": 18,
   "id": "1cacfa0e",
   "metadata": {
    "execution": {
     "iopub.execute_input": "2022-06-05T11:49:57.266131Z",
     "iopub.status.busy": "2022-06-05T11:49:57.265784Z",
     "iopub.status.idle": "2022-06-05T11:50:52.705196Z",
     "shell.execute_reply": "2022-06-05T11:50:52.704296Z"
    },
    "papermill": {
     "duration": 55.460338,
     "end_time": "2022-06-05T11:50:52.707311",
     "exception": false,
     "start_time": "2022-06-05T11:49:57.246973",
     "status": "completed"
    },
    "tags": []
   },
   "outputs": [
    {
     "data": {
      "image/png": "[encoded data removed]",
      "text/plain": [
       "<Figure size 432x288 with 1 Axes>"
      ]
     },
     "metadata": {
      "needs_background": "light"
     },
     "output_type": "display_data"
    },
    {
     "data": {
      "image/png": "[encoded data removed]",
      "text/plain": [
       "<Figure size 432x288 with 1 Axes>"
      ]
     },
     "metadata": {
      "needs_background": "light"
     },
     "output_type": "display_data"
    },
    {
     "data": {
      "image/png": "[encoded data removed]",
      "text/plain": [
       "<Figure size 432x288 with 1 Axes>"
      ]
     },
     "metadata": {
      "needs_background": "light"
     },
     "output_type": "display_data"
    },
    {
     "data": {
      "image/png": "[encoded data removed]",
      "text/plain": [
       "<Figure size 432x288 with 1 Axes>"
      ]
     },
     "metadata": {
      "needs_background": "light"
     },
     "output_type": "display_data"
    }
   ],
   "source": [
    "for feature in num_fea:\n",
    "    if feature != 'fraud':\n",
    "        sns.barplot(x=df[feature],y=df['fraud'])\n",
    "        plt.show()"
   ]
  },
  {
   "cell_type": "code",
   "execution_count": 19,
   "id": "2c5dfc51",
   "metadata": {
    "execution": {
     "iopub.execute_input": "2022-06-05T11:50:52.748399Z",
     "iopub.status.busy": "2022-06-05T11:50:52.747755Z",
     "iopub.status.idle": "2022-06-05T11:50:53.449686Z",
     "shell.execute_reply": "2022-06-05T11:50:53.449000Z"
    },
    "papermill": {
     "duration": 0.724814,
     "end_time": "2022-06-05T11:50:53.451479",
     "exception": false,
     "start_time": "2022-06-05T11:50:52.726665",
     "status": "completed"
    },
    "tags": []
   },
   "outputs": [
    {
     "data": {
      "image/png": "[encoded data removed]",
      "text/plain": [
       "<Figure size 432x288 with 1 Axes>"
      ]
     },
     "metadata": {
      "needs_background": "light"
     },
     "output_type": "display_data"
    },
    {
     "data": {
      "image/png": "[encoded data removed]",
      "text/plain": [
       "<Figure size 432x288 with 1 Axes>"
      ]
     },
     "metadata": {
      "needs_background": "light"
     },
     "output_type": "display_data"
    },
    {
     "data": {
      "image/png": "[encoded data removed]",
      "text/plain": [
       "<Figure size 432x288 with 1 Axes>"
      ]
     },
     "metadata": {
      "needs_background": "light"
     },
     "output_type": "display_data"
    },
    {
     "data": {
      "image/png": "[encoded data removed]",
      "text/plain": [
       "<Figure size 432x288 with 1 Axes>"
      ]
     },
     "metadata": {
      "needs_background": "light"
     },
     "output_type": "display_data"
    }
   ],
   "source": [
    "for feature in num_fea:\n",
    "    if feature != 'fraud':\n",
    "        df.groupby(feature)['fraud'].count().plot.bar()\n",
    "        plt.show()"
   ]
  },
  {
   "cell_type": "code",
   "execution_count": 20,
   "id": "ce293eb7",
   "metadata": {
    "execution": {
     "iopub.execute_input": "2022-06-05T11:50:53.493683Z",
     "iopub.status.busy": "2022-06-05T11:50:53.493167Z",
     "iopub.status.idle": "2022-06-05T11:50:54.779981Z",
     "shell.execute_reply": "2022-06-05T11:50:54.779279Z"
    },
    "papermill": {
     "duration": 1.310215,
     "end_time": "2022-06-05T11:50:54.781766",
     "exception": false,
     "start_time": "2022-06-05T11:50:53.471551",
     "status": "completed"
    },
    "tags": []
   },
   "outputs": [
    {
     "data": {
      "image/png": "[encoded data removed]",
      "text/plain": [
       "<Figure size 432x288 with 1 Axes>"
      ]
     },
     "metadata": {
      "needs_background": "light"
     },
     "output_type": "display_data"
    },
    {
     "data": {
      "image/png": "[encoded data removed]",
      "text/plain": [
       "<Figure size 432x288 with 1 Axes>"
      ]
     },
     "metadata": {
      "needs_background": "light"
     },
     "output_type": "display_data"
    },
    {
     "data": {
      "image/png": "[encoded data removed]",
      "text/plain": [
       "<Figure size 432x288 with 1 Axes>"
      ]
     },
     "metadata": {
      "needs_background": "light"
     },
     "output_type": "display_data"
    },
    {
     "data": {
      "image/png": "[encoded data removed]",
      "text/plain": [
       "<Figure size 432x288 with 1 Axes>"
      ]
     },
     "metadata": {
      "needs_background": "light"
     },
     "output_type": "display_data"
    }
   ],
   "source": [
    "for feature in num_fea:\n",
    "    if feature != 'fraud':\n",
    "        sns.countplot(x=df[feature],hue=df['fraud'])\n",
    "        plt.show()"
   ]
  },
  {
   "cell_type": "markdown",
   "id": "058a627b",
   "metadata": {
    "papermill": {
     "duration": 0.02047,
     "end_time": "2022-06-05T11:50:54.823295",
     "exception": false,
     "start_time": "2022-06-05T11:50:54.802825",
     "status": "completed"
    },
    "tags": []
   },
   "source": [
    "1. person who repeat retailer valye 1 has more fraud data than 0\n",
    "2. person who dose not used chip has more no of fraud\n",
    "3. person who dose not use pin has more fraud data\n",
    "4. person who do transaction by online has more chance to fraud"
   ]
  },
  {
   "cell_type": "code",
   "execution_count": 21,
   "id": "89881c0f",
   "metadata": {
    "execution": {
     "iopub.execute_input": "2022-06-05T11:50:54.867044Z",
     "iopub.status.busy": "2022-06-05T11:50:54.866422Z",
     "iopub.status.idle": "2022-06-05T11:51:09.717960Z",
     "shell.execute_reply": "2022-06-05T11:51:09.717232Z"
    },
    "papermill": {
     "duration": 14.875641,
     "end_time": "2022-06-05T11:51:09.719801",
     "exception": false,
     "start_time": "2022-06-05T11:50:54.844160",
     "status": "completed"
    },
    "tags": []
   },
   "outputs": [
    {
     "data": {
      "text/plain": [
       "<AxesSubplot:xlabel='repeat_retailer', ylabel='used_pin_number'>"
      ]
     },
     "execution_count": 21,
     "metadata": {},
     "output_type": "execute_result"
    },
    {
     "data": {
      "image/png": "[encoded data removed]",
      "text/plain": [
       "<Figure size 432x288 with 1 Axes>"
      ]
     },
     "metadata": {
      "needs_background": "light"
     },
     "output_type": "display_data"
    }
   ],
   "source": [
    "sns.barplot(x=df['repeat_retailer'],y=df['used_pin_number'],hue = df['fraud'])"
   ]
  },
  {
   "cell_type": "code",
   "execution_count": 22,
   "id": "5051d3ec",
   "metadata": {
    "execution": {
     "iopub.execute_input": "2022-06-05T11:51:09.764929Z",
     "iopub.status.busy": "2022-06-05T11:51:09.764409Z",
     "iopub.status.idle": "2022-06-05T11:51:25.174299Z",
     "shell.execute_reply": "2022-06-05T11:51:25.173441Z"
    },
    "papermill": {
     "duration": 15.435165,
     "end_time": "2022-06-05T11:51:25.176669",
     "exception": false,
     "start_time": "2022-06-05T11:51:09.741504",
     "status": "completed"
    },
    "tags": []
   },
   "outputs": [
    {
     "data": {
      "text/plain": [
       "<AxesSubplot:xlabel='repeat_retailer', ylabel='online_order'>"
      ]
     },
     "execution_count": 22,
     "metadata": {},
     "output_type": "execute_result"
    },
    {
     "data": {
      "image/png": "[encoded data removed]",
      "text/plain": [
       "<Figure size 432x288 with 1 Axes>"
      ]
     },
     "metadata": {
      "needs_background": "light"
     },
     "output_type": "display_data"
    }
   ],
   "source": [
    "sns.barplot(x=df['repeat_retailer'],y=df['online_order'],hue = df['fraud'])"
   ]
  },
  {
   "cell_type": "code",
   "execution_count": 23,
   "id": "5a4b43d3",
   "metadata": {
    "execution": {
     "iopub.execute_input": "2022-06-05T11:51:25.223036Z",
     "iopub.status.busy": "2022-06-05T11:51:25.222375Z",
     "iopub.status.idle": "2022-06-05T11:51:42.028253Z",
     "shell.execute_reply": "2022-06-05T11:51:42.027565Z"
    },
    "papermill": {
     "duration": 16.831004,
     "end_time": "2022-06-05T11:51:42.030160",
     "exception": false,
     "start_time": "2022-06-05T11:51:25.199156",
     "status": "completed"
    },
    "tags": []
   },
   "outputs": [
    {
     "data": {
      "text/plain": [
       "<AxesSubplot:xlabel='used_pin_number', ylabel='online_order'>"
      ]
     },
     "execution_count": 23,
     "metadata": {},
     "output_type": "execute_result"
    },
    {
     "data": {
      "image/png": "[encoded data removed]",
      "text/plain": [
       "<Figure size 432x288 with 1 Axes>"
      ]
     },
     "metadata": {
      "needs_background": "light"
     },
     "output_type": "display_data"
    }
   ],
   "source": [
    "sns.barplot(x=df['used_pin_number'],y=df['online_order'],hue = df['fraud'])"
   ]
  },
  {
   "cell_type": "code",
   "execution_count": 24,
   "id": "c8bb78b3",
   "metadata": {
    "execution": {
     "iopub.execute_input": "2022-06-05T11:51:42.087429Z",
     "iopub.status.busy": "2022-06-05T11:51:42.086780Z",
     "iopub.status.idle": "2022-06-05T11:51:42.906181Z",
     "shell.execute_reply": "2022-06-05T11:51:42.905463Z"
    },
    "papermill": {
     "duration": 0.85058,
     "end_time": "2022-06-05T11:51:42.908210",
     "exception": false,
     "start_time": "2022-06-05T11:51:42.057630",
     "status": "completed"
    },
    "tags": []
   },
   "outputs": [
    {
     "data": {
      "text/plain": [
       "<AxesSubplot:>"
      ]
     },
     "execution_count": 24,
     "metadata": {},
     "output_type": "execute_result"
    },
    {
     "data": {
      "image/png": "[encoded data removed]",
      "text/plain": [
       "<Figure size 720x720 with 2 Axes>"
      ]
     },
     "metadata": {
      "needs_background": "light"
     },
     "output_type": "display_data"
    }
   ],
   "source": [
    "plt.figure(figsize=(10,10))\n",
    "sns.heatmap(df.corr(),annot=True)"
   ]
  },
  {
   "cell_type": "markdown",
   "id": "ead6b59d",
   "metadata": {
    "papermill": {
     "duration": 0.029217,
     "end_time": "2022-06-05T11:51:42.971903",
     "exception": false,
     "start_time": "2022-06-05T11:51:42.942686",
     "status": "completed"
    },
    "tags": []
   },
   "source": [
    "# Distribution"
   ]
  },
  {
   "cell_type": "code",
   "execution_count": 25,
   "id": "028b7ec4",
   "metadata": {
    "execution": {
     "iopub.execute_input": "2022-06-05T11:51:43.022803Z",
     "iopub.status.busy": "2022-06-05T11:51:43.022173Z",
     "iopub.status.idle": "2022-06-05T11:51:47.059178Z",
     "shell.execute_reply": "2022-06-05T11:51:47.058440Z"
    },
    "papermill": {
     "duration": 4.063646,
     "end_time": "2022-06-05T11:51:47.061316",
     "exception": false,
     "start_time": "2022-06-05T11:51:42.997670",
     "status": "completed"
    },
    "tags": []
   },
   "outputs": [
    {
     "name": "stderr",
     "output_type": "stream",
     "text": [
      "/opt/conda/lib/python3.7/site-packages/seaborn/distributions.py:2619: FutureWarning: `distplot` is a deprecated function and will be removed in a future version. Please adapt your code to use either `displot` (a figure-level function with similar flexibility) or `histplot` (an axes-level function for histograms).\n",
      "  warnings.warn(msg, FutureWarning)\n"
     ]
    },
    {
     "data": {
      "text/plain": [
       "<AxesSubplot:ylabel='Density'>"
      ]
     },
     "execution_count": 25,
     "metadata": {},
     "output_type": "execute_result"
    },
    {
     "data": {
      "image/png": "[encoded data removed]",
      "text/plain": [
       "<Figure size 432x288 with 1 Axes>"
      ]
     },
     "metadata": {
      "needs_background": "light"
     },
     "output_type": "display_data"
    }
   ],
   "source": [
    "sns.distplot(x=df['distance_from_home'])"
   ]
  },
  {
   "cell_type": "code",
   "execution_count": 26,
   "id": "6e39ec4b",
   "metadata": {
    "execution": {
     "iopub.execute_input": "2022-06-05T11:51:47.112738Z",
     "iopub.status.busy": "2022-06-05T11:51:47.111800Z",
     "iopub.status.idle": "2022-06-05T11:51:50.942647Z",
     "shell.execute_reply": "2022-06-05T11:51:50.941057Z"
    },
    "papermill": {
     "duration": 3.858773,
     "end_time": "2022-06-05T11:51:50.944693",
     "exception": false,
     "start_time": "2022-06-05T11:51:47.085920",
     "status": "completed"
    },
    "tags": []
   },
   "outputs": [
    {
     "name": "stderr",
     "output_type": "stream",
     "text": [
      "/opt/conda/lib/python3.7/site-packages/seaborn/distributions.py:2619: FutureWarning: `distplot` is a deprecated function and will be removed in a future version. Please adapt your code to use either `displot` (a figure-level function with similar flexibility) or `histplot` (an axes-level function for histograms).\n",
      "  warnings.warn(msg, FutureWarning)\n"
     ]
    },
    {
     "data": {
      "text/plain": [
       "<AxesSubplot:ylabel='Density'>"
      ]
     },
     "execution_count": 26,
     "metadata": {},
     "output_type": "execute_result"
    },
    {
     "data": {
      "image/png": "[encoded data removed]",
      "text/plain": [
       "<Figure size 432x288 with 1 Axes>"
      ]
     },
     "metadata": {
      "needs_background": "light"
     },
     "output_type": "display_data"
    }
   ],
   "source": [
    "sns.distplot(x=df['distance_from_last_transaction'])"
   ]
  },
  {
   "cell_type": "code",
   "execution_count": 27,
   "id": "28fa998f",
   "metadata": {
    "execution": {
     "iopub.execute_input": "2022-06-05T11:51:50.995363Z",
     "iopub.status.busy": "2022-06-05T11:51:50.994992Z",
     "iopub.status.idle": "2022-06-05T11:51:54.836732Z",
     "shell.execute_reply": "2022-06-05T11:51:54.835825Z"
    },
    "papermill": {
     "duration": 3.869488,
     "end_time": "2022-06-05T11:51:54.838806",
     "exception": false,
     "start_time": "2022-06-05T11:51:50.969318",
     "status": "completed"
    },
    "tags": []
   },
   "outputs": [
    {
     "name": "stderr",
     "output_type": "stream",
     "text": [
      "/opt/conda/lib/python3.7/site-packages/seaborn/distributions.py:2619: FutureWarning: `distplot` is a deprecated function and will be removed in a future version. Please adapt your code to use either `displot` (a figure-level function with similar flexibility) or `histplot` (an axes-level function for histograms).\n",
      "  warnings.warn(msg, FutureWarning)\n"
     ]
    },
    {
     "data": {
      "text/plain": [
       "<AxesSubplot:ylabel='Density'>"
      ]
     },
     "execution_count": 27,
     "metadata": {},
     "output_type": "execute_result"
    },
    {
     "data": {
      "image/png": "[encoded data removed]",
      "text/plain": [
       "<Figure size 432x288 with 1 Axes>"
      ]
     },
     "metadata": {
      "needs_background": "light"
     },
     "output_type": "display_data"
    }
   ],
   "source": [
    "sns.distplot(x=df['ratio_to_median_purchase_price'])"
   ]
  },
  {
   "cell_type": "code",
   "execution_count": 28,
   "id": "fb973fdb",
   "metadata": {
    "execution": {
     "iopub.execute_input": "2022-06-05T11:51:54.890788Z",
     "iopub.status.busy": "2022-06-05T11:51:54.890165Z",
     "iopub.status.idle": "2022-06-05T11:51:54.921211Z",
     "shell.execute_reply": "2022-06-05T11:51:54.920409Z"
    },
    "papermill": {
     "duration": 0.059622,
     "end_time": "2022-06-05T11:51:54.923590",
     "exception": false,
     "start_time": "2022-06-05T11:51:54.863968",
     "status": "completed"
    },
    "tags": []
   },
   "outputs": [],
   "source": [
    "data = df.copy()"
   ]
  },
  {
   "cell_type": "code",
   "execution_count": 29,
   "id": "349ce226",
   "metadata": {
    "execution": {
     "iopub.execute_input": "2022-06-05T11:51:54.980357Z",
     "iopub.status.busy": "2022-06-05T11:51:54.979526Z",
     "iopub.status.idle": "2022-06-05T11:51:56.697116Z",
     "shell.execute_reply": "2022-06-05T11:51:56.695962Z"
    },
    "papermill": {
     "duration": 1.751046,
     "end_time": "2022-06-05T11:51:56.699563",
     "exception": false,
     "start_time": "2022-06-05T11:51:54.948517",
     "status": "completed"
    },
    "tags": []
   },
   "outputs": [],
   "source": [
    "l =[]\n",
    "for i in df['distance_from_last_transaction']:\n",
    "    if i !=0 :\n",
    "        l.append(np.log10(i))"
   ]
  },
  {
   "cell_type": "code",
   "execution_count": 30,
   "id": "29e3b793",
   "metadata": {
    "execution": {
     "iopub.execute_input": "2022-06-05T11:51:56.750692Z",
     "iopub.status.busy": "2022-06-05T11:51:56.750065Z",
     "iopub.status.idle": "2022-06-05T11:51:57.078027Z",
     "shell.execute_reply": "2022-06-05T11:51:57.077188Z"
    },
    "papermill": {
     "duration": 0.355785,
     "end_time": "2022-06-05T11:51:57.080359",
     "exception": false,
     "start_time": "2022-06-05T11:51:56.724574",
     "status": "completed"
    },
    "tags": []
   },
   "outputs": [],
   "source": [
    "data['distance_from_last_transaction']=l"
   ]
  },
  {
   "cell_type": "code",
   "execution_count": 31,
   "id": "8e21d1d8",
   "metadata": {
    "execution": {
     "iopub.execute_input": "2022-06-05T11:51:57.131801Z",
     "iopub.status.busy": "2022-06-05T11:51:57.131427Z",
     "iopub.status.idle": "2022-06-05T11:52:00.933221Z",
     "shell.execute_reply": "2022-06-05T11:52:00.932249Z"
    },
    "papermill": {
     "duration": 3.829623,
     "end_time": "2022-06-05T11:52:00.935307",
     "exception": false,
     "start_time": "2022-06-05T11:51:57.105684",
     "status": "completed"
    },
    "tags": []
   },
   "outputs": [
    {
     "name": "stderr",
     "output_type": "stream",
     "text": [
      "/opt/conda/lib/python3.7/site-packages/seaborn/distributions.py:2619: FutureWarning: `distplot` is a deprecated function and will be removed in a future version. Please adapt your code to use either `displot` (a figure-level function with similar flexibility) or `histplot` (an axes-level function for histograms).\n",
      "  warnings.warn(msg, FutureWarning)\n"
     ]
    },
    {
     "data": {
      "text/plain": [
       "<AxesSubplot:ylabel='Density'>"
      ]
     },
     "execution_count": 31,
     "metadata": {},
     "output_type": "execute_result"
    },
    {
     "data": {
      "image/png": "[encoded data removed]",
      "text/plain": [
       "<Figure size 432x288 with 1 Axes>"
      ]
     },
     "metadata": {
      "needs_background": "light"
     },
     "output_type": "display_data"
    }
   ],
   "source": [
    "sns.distplot(x=data['distance_from_home'])"
   ]
  },
  {
   "cell_type": "code",
   "execution_count": 32,
   "id": "c1ebc140",
   "metadata": {
    "execution": {
     "iopub.execute_input": "2022-06-05T11:52:00.987118Z",
     "iopub.status.busy": "2022-06-05T11:52:00.986333Z",
     "iopub.status.idle": "2022-06-05T11:52:05.242054Z",
     "shell.execute_reply": "2022-06-05T11:52:05.241164Z"
    },
    "papermill": {
     "duration": 4.283979,
     "end_time": "2022-06-05T11:52:05.244150",
     "exception": false,
     "start_time": "2022-06-05T11:52:00.960171",
     "status": "completed"
    },
    "tags": []
   },
   "outputs": [
    {
     "name": "stderr",
     "output_type": "stream",
     "text": [
      "/opt/conda/lib/python3.7/site-packages/seaborn/distributions.py:2619: FutureWarning: `distplot` is a deprecated function and will be removed in a future version. Please adapt your code to use either `displot` (a figure-level function with similar flexibility) or `histplot` (an axes-level function for histograms).\n",
      "  warnings.warn(msg, FutureWarning)\n"
     ]
    },
    {
     "data": {
      "text/plain": [
       "<AxesSubplot:ylabel='Density'>"
      ]
     },
     "execution_count": 32,
     "metadata": {},
     "output_type": "execute_result"
    },
    {
     "data": {
      "image/png": "[encoded data removed]",
      "text/plain": [
       "<Figure size 432x288 with 1 Axes>"
      ]
     },
     "metadata": {
      "needs_background": "light"
     },
     "output_type": "display_data"
    }
   ],
   "source": [
    "sns.distplot(x=data['distance_from_last_transaction'])"
   ]
  },
  {
   "cell_type": "code",
   "execution_count": 33,
   "id": "07fb1d05",
   "metadata": {
    "execution": {
     "iopub.execute_input": "2022-06-05T11:52:05.296008Z",
     "iopub.status.busy": "2022-06-05T11:52:05.295490Z",
     "iopub.status.idle": "2022-06-05T11:52:09.072226Z",
     "shell.execute_reply": "2022-06-05T11:52:09.070679Z"
    },
    "papermill": {
     "duration": 3.805355,
     "end_time": "2022-06-05T11:52:09.074622",
     "exception": false,
     "start_time": "2022-06-05T11:52:05.269267",
     "status": "completed"
    },
    "tags": []
   },
   "outputs": [
    {
     "name": "stderr",
     "output_type": "stream",
     "text": [
      "/opt/conda/lib/python3.7/site-packages/seaborn/distributions.py:2619: FutureWarning: `distplot` is a deprecated function and will be removed in a future version. Please adapt your code to use either `displot` (a figure-level function with similar flexibility) or `histplot` (an axes-level function for histograms).\n",
      "  warnings.warn(msg, FutureWarning)\n"
     ]
    },
    {
     "data": {
      "text/plain": [
       "<AxesSubplot:ylabel='Density'>"
      ]
     },
     "execution_count": 33,
     "metadata": {},
     "output_type": "execute_result"
    },
    {
     "data": {
      "image/png": "[encoded data removed]",
      "text/plain": [
       "<Figure size 432x288 with 1 Axes>"
      ]
     },
     "metadata": {
      "needs_background": "light"
     },
     "output_type": "display_data"
    }
   ],
   "source": [
    "sns.distplot(x=data['ratio_to_median_purchase_price'])"
   ]
  },
  {
   "cell_type": "markdown",
   "id": "2d90b175",
   "metadata": {
    "papermill": {
     "duration": 0.026281,
     "end_time": "2022-06-05T11:52:09.127046",
     "exception": false,
     "start_time": "2022-06-05T11:52:09.100765",
     "status": "completed"
    },
    "tags": []
   },
   "source": [
    "# Outlier"
   ]
  },
  {
   "cell_type": "code",
   "execution_count": 34,
   "id": "75e0578d",
   "metadata": {
    "execution": {
     "iopub.execute_input": "2022-06-05T11:52:09.181141Z",
     "iopub.status.busy": "2022-06-05T11:52:09.180559Z",
     "iopub.status.idle": "2022-06-05T11:52:09.916301Z",
     "shell.execute_reply": "2022-06-05T11:52:09.915431Z"
    },
    "papermill": {
     "duration": 0.765376,
     "end_time": "2022-06-05T11:52:09.918674",
     "exception": false,
     "start_time": "2022-06-05T11:52:09.153298",
     "status": "completed"
    },
    "tags": []
   },
   "outputs": [
    {
     "data": {
      "image/png": "[encoded data removed]",
      "text/plain": [
       "<Figure size 432x288 with 1 Axes>"
      ]
     },
     "metadata": {
      "needs_background": "light"
     },
     "output_type": "display_data"
    },
    {
     "data": {
      "image/png": "[encoded data removed]",
      "text/plain": [
       "<Figure size 432x288 with 1 Axes>"
      ]
     },
     "metadata": {
      "needs_background": "light"
     },
     "output_type": "display_data"
    },
    {
     "data": {
      "image/png": "[encoded data removed]",
      "text/plain": [
       "<Figure size 432x288 with 1 Axes>"
      ]
     },
     "metadata": {
      "needs_background": "light"
     },
     "output_type": "display_data"
    }
   ],
   "source": [
    "for i in cont_num:\n",
    "    plt.boxplot(df[feature])\n",
    "    plt.xlabel(feature)\n",
    "    plt.show()"
   ]
  },
  {
   "cell_type": "markdown",
   "id": "c5be0b19",
   "metadata": {
    "papermill": {
     "duration": 0.025236,
     "end_time": "2022-06-05T11:52:09.969905",
     "exception": false,
     "start_time": "2022-06-05T11:52:09.944669",
     "status": "completed"
    },
    "tags": []
   },
   "source": []
  },
  {
   "cell_type": "code",
   "execution_count": 35,
   "id": "81211f98",
   "metadata": {
    "execution": {
     "iopub.execute_input": "2022-06-05T11:52:10.023581Z",
     "iopub.status.busy": "2022-06-05T11:52:10.023154Z",
     "iopub.status.idle": "2022-06-05T11:52:10.048892Z",
     "shell.execute_reply": "2022-06-05T11:52:10.048037Z"
    },
    "papermill": {
     "duration": 0.054906,
     "end_time": "2022-06-05T11:52:10.050829",
     "exception": false,
     "start_time": "2022-06-05T11:52:09.995923",
     "status": "completed"
    },
    "tags": []
   },
   "outputs": [],
   "source": [
    "X = df.drop('fraud',axis=1)\n",
    "y = df['fraud']"
   ]
  },
  {
   "cell_type": "markdown",
   "id": "511a6dde",
   "metadata": {
    "papermill": {
     "duration": 0.031183,
     "end_time": "2022-06-05T11:52:10.111719",
     "exception": false,
     "start_time": "2022-06-05T11:52:10.080536",
     "status": "completed"
    },
    "tags": []
   },
   "source": [
    "# feature selection"
   ]
  },
  {
   "cell_type": "code",
   "execution_count": 36,
   "id": "90699b9c",
   "metadata": {
    "execution": {
     "iopub.execute_input": "2022-06-05T11:52:10.170040Z",
     "iopub.status.busy": "2022-06-05T11:52:10.169322Z",
     "iopub.status.idle": "2022-06-05T11:52:10.479394Z",
     "shell.execute_reply": "2022-06-05T11:52:10.478410Z"
    },
    "papermill": {
     "duration": 0.340197,
     "end_time": "2022-06-05T11:52:10.481970",
     "exception": false,
     "start_time": "2022-06-05T11:52:10.141773",
     "status": "completed"
    },
    "tags": []
   },
   "outputs": [],
   "source": [
    "from sklearn.tree import ExtraTreeClassifier\n",
    "from sklearn.feature_selection import SelectFromModel\n",
    "from sklearn.model_selection import train_test_split"
   ]
  },
  {
   "cell_type": "code",
   "execution_count": 37,
   "id": "3f1369a7",
   "metadata": {
    "execution": {
     "iopub.execute_input": "2022-06-05T11:52:10.537221Z",
     "iopub.status.busy": "2022-06-05T11:52:10.536513Z",
     "iopub.status.idle": "2022-06-05T11:52:10.989019Z",
     "shell.execute_reply": "2022-06-05T11:52:10.988096Z"
    },
    "papermill": {
     "duration": 0.482325,
     "end_time": "2022-06-05T11:52:10.991079",
     "exception": false,
     "start_time": "2022-06-05T11:52:10.508754",
     "status": "completed"
    },
    "tags": []
   },
   "outputs": [
    {
     "data": {
      "text/plain": [
       "SelectFromModel(estimator=ExtraTreeClassifier())"
      ]
     },
     "execution_count": 37,
     "metadata": {},
     "output_type": "execute_result"
    }
   ],
   "source": [
    "sel = SelectFromModel(ExtraTreeClassifier())\n",
    "sel.fit(X,y)\n"
   ]
  },
  {
   "cell_type": "code",
   "execution_count": 38,
   "id": "25bfdefd",
   "metadata": {
    "execution": {
     "iopub.execute_input": "2022-06-05T11:52:11.045806Z",
     "iopub.status.busy": "2022-06-05T11:52:11.045173Z",
     "iopub.status.idle": "2022-06-05T11:52:11.089057Z",
     "shell.execute_reply": "2022-06-05T11:52:11.088213Z"
    },
    "papermill": {
     "duration": 0.073703,
     "end_time": "2022-06-05T11:52:11.091212",
     "exception": false,
     "start_time": "2022-06-05T11:52:11.017509",
     "status": "completed"
    },
    "tags": []
   },
   "outputs": [],
   "source": [
    "l = list(X.columns[sel.get_support()])\n",
    "\n",
    "X = X[l]"
   ]
  },
  {
   "cell_type": "code",
   "execution_count": 39,
   "id": "f1a9c2c8",
   "metadata": {
    "execution": {
     "iopub.execute_input": "2022-06-05T11:52:11.147454Z",
     "iopub.status.busy": "2022-06-05T11:52:11.146466Z",
     "iopub.status.idle": "2022-06-05T11:52:11.257180Z",
     "shell.execute_reply": "2022-06-05T11:52:11.256434Z"
    },
    "papermill": {
     "duration": 0.141197,
     "end_time": "2022-06-05T11:52:11.259267",
     "exception": false,
     "start_time": "2022-06-05T11:52:11.118070",
     "status": "completed"
    },
    "tags": []
   },
   "outputs": [],
   "source": [
    "X_train,X_test,y_train,y_test= train_test_split(X,y,test_size=0.3,random_state=42)"
   ]
  },
  {
   "cell_type": "code",
   "execution_count": 40,
   "id": "c859803c",
   "metadata": {
    "execution": {
     "iopub.execute_input": "2022-06-05T11:52:11.314843Z",
     "iopub.status.busy": "2022-06-05T11:52:11.314465Z",
     "iopub.status.idle": "2022-06-05T11:52:11.323629Z",
     "shell.execute_reply": "2022-06-05T11:52:11.322952Z"
    },
    "papermill": {
     "duration": 0.038842,
     "end_time": "2022-06-05T11:52:11.325363",
     "exception": false,
     "start_time": "2022-06-05T11:52:11.286521",
     "status": "completed"
    },
    "tags": []
   },
   "outputs": [
    {
     "data": {
      "text/html": [
       "<div>\n",
       "<style scoped>\n",
       "    .dataframe tbody tr th:only-of-type {\n",
       "        vertical-align: middle;\n",
       "    }\n",
       "\n",
       "    .dataframe tbody tr th {\n",
       "        vertical-align: top;\n",
       "    }\n",
       "\n",
       "    .dataframe thead th {\n",
       "        text-align: right;\n",
       "    }\n",
       "</style>\n",
       "<table border=\"1\" class=\"dataframe\">\n",
       "  <thead>\n",
       "    <tr style=\"text-align: right;\">\n",
       "      <th></th>\n",
       "      <th>distance_from_home</th>\n",
       "      <th>ratio_to_median_purchase_price</th>\n",
       "    </tr>\n",
       "  </thead>\n",
       "  <tbody>\n",
       "    <tr>\n",
       "      <th>506532</th>\n",
       "      <td>10.765062</td>\n",
       "      <td>0.210220</td>\n",
       "    </tr>\n",
       "    <tr>\n",
       "      <th>327991</th>\n",
       "      <td>2.896660</td>\n",
       "      <td>5.320762</td>\n",
       "    </tr>\n",
       "    <tr>\n",
       "      <th>715937</th>\n",
       "      <td>3.643442</td>\n",
       "      <td>1.947841</td>\n",
       "    </tr>\n",
       "    <tr>\n",
       "      <th>860726</th>\n",
       "      <td>12.966595</td>\n",
       "      <td>0.158173</td>\n",
       "    </tr>\n",
       "    <tr>\n",
       "      <th>78617</th>\n",
       "      <td>5.303473</td>\n",
       "      <td>0.331516</td>\n",
       "    </tr>\n",
       "  </tbody>\n",
       "</table>\n",
       "</div>"
      ],
      "text/plain": [
       "        distance_from_home  ratio_to_median_purchase_price\n",
       "506532           10.765062                        0.210220\n",
       "327991            2.896660                        5.320762\n",
       "715937            3.643442                        1.947841\n",
       "860726           12.966595                        0.158173\n",
       "78617             5.303473                        0.331516"
      ]
     },
     "execution_count": 40,
     "metadata": {},
     "output_type": "execute_result"
    }
   ],
   "source": [
    "X_train.head()"
   ]
  },
  {
   "cell_type": "code",
   "execution_count": 41,
   "id": "395faa03",
   "metadata": {
    "execution": {
     "iopub.execute_input": "2022-06-05T11:52:11.380676Z",
     "iopub.status.busy": "2022-06-05T11:52:11.379917Z",
     "iopub.status.idle": "2022-06-05T11:52:11.439145Z",
     "shell.execute_reply": "2022-06-05T11:52:11.438413Z"
    },
    "papermill": {
     "duration": 0.089104,
     "end_time": "2022-06-05T11:52:11.441227",
     "exception": false,
     "start_time": "2022-06-05T11:52:11.352123",
     "status": "completed"
    },
    "tags": []
   },
   "outputs": [],
   "source": [
    "from sklearn.ensemble import RandomForestClassifier\n",
    "from sklearn.metrics import accuracy_score,classification_report,confusion_matrix"
   ]
  },
  {
   "cell_type": "code",
   "execution_count": 42,
   "id": "c08b1ded",
   "metadata": {
    "execution": {
     "iopub.execute_input": "2022-06-05T11:52:11.497026Z",
     "iopub.status.busy": "2022-06-05T11:52:11.496176Z",
     "iopub.status.idle": "2022-06-05T11:58:46.730232Z",
     "shell.execute_reply": "2022-06-05T11:58:46.729284Z"
    },
    "papermill": {
     "duration": 395.290745,
     "end_time": "2022-06-05T11:58:46.759112",
     "exception": false,
     "start_time": "2022-06-05T11:52:11.468367",
     "status": "completed"
    },
    "tags": []
   },
   "outputs": [
    {
     "data": {
      "text/plain": [
       "RandomForestClassifier()"
      ]
     },
     "execution_count": 42,
     "metadata": {},
     "output_type": "execute_result"
    }
   ],
   "source": [
    "res = RandomForestClassifier()\n",
    "res.fit(X_train,y_train)"
   ]
  },
  {
   "cell_type": "code",
   "execution_count": 43,
   "id": "4bc6a851",
   "metadata": {
    "execution": {
     "iopub.execute_input": "2022-06-05T11:58:46.816300Z",
     "iopub.status.busy": "2022-06-05T11:58:46.815895Z",
     "iopub.status.idle": "2022-06-05T11:58:57.404851Z",
     "shell.execute_reply": "2022-06-05T11:58:57.403808Z"
    },
    "papermill": {
     "duration": 10.620576,
     "end_time": "2022-06-05T11:58:57.407091",
     "exception": false,
     "start_time": "2022-06-05T11:58:46.786515",
     "status": "completed"
    },
    "tags": []
   },
   "outputs": [
    {
     "data": {
      "text/plain": [
       "0.9308233333333333"
      ]
     },
     "execution_count": 43,
     "metadata": {},
     "output_type": "execute_result"
    }
   ],
   "source": [
    "pred= res.predict(X_test)\n",
    "accuracy_score(y_test,pred)"
   ]
  },
  {
   "cell_type": "code",
   "execution_count": 44,
   "id": "465b334f",
   "metadata": {
    "execution": {
     "iopub.execute_input": "2022-06-05T11:58:57.465608Z",
     "iopub.status.busy": "2022-06-05T11:58:57.464929Z",
     "iopub.status.idle": "2022-06-05T11:58:57.468767Z",
     "shell.execute_reply": "2022-06-05T11:58:57.468122Z"
    },
    "papermill": {
     "duration": 0.035472,
     "end_time": "2022-06-05T11:58:57.470674",
     "exception": false,
     "start_time": "2022-06-05T11:58:57.435202",
     "status": "completed"
    },
    "tags": []
   },
   "outputs": [],
   "source": [
    "import pickle"
   ]
  },
  {
   "cell_type": "code",
   "execution_count": 45,
   "id": "c7f57b06",
   "metadata": {
    "execution": {
     "iopub.execute_input": "2022-06-05T11:58:57.528120Z",
     "iopub.status.busy": "2022-06-05T11:58:57.527486Z",
     "iopub.status.idle": "2022-06-05T11:58:58.354139Z",
     "shell.execute_reply": "2022-06-05T11:58:58.353320Z"
    },
    "papermill": {
     "duration": 0.858123,
     "end_time": "2022-06-05T11:58:58.356323",
     "exception": false,
     "start_time": "2022-06-05T11:58:57.498200",
     "status": "completed"
    },
    "tags": []
   },
   "outputs": [],
   "source": [
    "pickle.dump(res,open('card2.pkl','wb'))"
   ]
  },
  {
   "cell_type": "code",
   "execution_count": 46,
   "id": "a7108bca",
   "metadata": {
    "execution": {
     "iopub.execute_input": "2022-06-05T11:58:58.414870Z",
     "iopub.status.busy": "2022-06-05T11:58:58.413944Z",
     "iopub.status.idle": "2022-06-05T11:58:59.156920Z",
     "shell.execute_reply": "2022-06-05T11:58:59.155931Z"
    },
    "papermill": {
     "duration": 0.774444,
     "end_time": "2022-06-05T11:58:59.159374",
     "exception": false,
     "start_time": "2022-06-05T11:58:58.384930",
     "status": "completed"
    },
    "tags": []
   },
   "outputs": [],
   "source": [
    "model_predict=pickle.load(open('card2.pkl','rb'))"
   ]
  },
  {
   "cell_type": "code",
   "execution_count": 47,
   "id": "833270c2",
   "metadata": {
    "execution": {
     "iopub.execute_input": "2022-06-05T11:58:59.216025Z",
     "iopub.status.busy": "2022-06-05T11:58:59.215662Z",
     "iopub.status.idle": "2022-06-05T11:58:59.247530Z",
     "shell.execute_reply": "2022-06-05T11:58:59.246533Z"
    },
    "papermill": {
     "duration": 0.062602,
     "end_time": "2022-06-05T11:58:59.249610",
     "exception": false,
     "start_time": "2022-06-05T11:58:59.187008",
     "status": "completed"
    },
    "tags": []
   },
   "outputs": [
    {
     "data": {
      "text/html": [
       "<div>\n",
       "<style scoped>\n",
       "    .dataframe tbody tr th:only-of-type {\n",
       "        vertical-align: middle;\n",
       "    }\n",
       "\n",
       "    .dataframe tbody tr th {\n",
       "        vertical-align: top;\n",
       "    }\n",
       "\n",
       "    .dataframe thead th {\n",
       "        text-align: right;\n",
       "    }\n",
       "</style>\n",
       "<table border=\"1\" class=\"dataframe\">\n",
       "  <thead>\n",
       "    <tr style=\"text-align: right;\">\n",
       "      <th></th>\n",
       "      <th>distance_from_home</th>\n",
       "      <th>distance_from_last_transaction</th>\n",
       "      <th>ratio_to_median_purchase_price</th>\n",
       "      <th>repeat_retailer</th>\n",
       "      <th>used_chip</th>\n",
       "      <th>used_pin_number</th>\n",
       "      <th>online_order</th>\n",
       "      <th>fraud</th>\n",
       "    </tr>\n",
       "  </thead>\n",
       "  <tbody>\n",
       "    <tr>\n",
       "      <th>13</th>\n",
       "      <td>2.131956</td>\n",
       "      <td>56.372401</td>\n",
       "      <td>6.358667</td>\n",
       "      <td>1.0</td>\n",
       "      <td>0.0</td>\n",
       "      <td>0.0</td>\n",
       "      <td>1.0</td>\n",
       "      <td>1.0</td>\n",
       "    </tr>\n",
       "    <tr>\n",
       "      <th>24</th>\n",
       "      <td>3.803057</td>\n",
       "      <td>67.241081</td>\n",
       "      <td>1.872950</td>\n",
       "      <td>1.0</td>\n",
       "      <td>0.0</td>\n",
       "      <td>0.0</td>\n",
       "      <td>1.0</td>\n",
       "      <td>1.0</td>\n",
       "    </tr>\n",
       "    <tr>\n",
       "      <th>29</th>\n",
       "      <td>15.694986</td>\n",
       "      <td>175.989182</td>\n",
       "      <td>0.855623</td>\n",
       "      <td>1.0</td>\n",
       "      <td>0.0</td>\n",
       "      <td>0.0</td>\n",
       "      <td>1.0</td>\n",
       "      <td>1.0</td>\n",
       "    </tr>\n",
       "    <tr>\n",
       "      <th>35</th>\n",
       "      <td>26.711462</td>\n",
       "      <td>1.552008</td>\n",
       "      <td>4.603601</td>\n",
       "      <td>1.0</td>\n",
       "      <td>1.0</td>\n",
       "      <td>0.0</td>\n",
       "      <td>1.0</td>\n",
       "      <td>1.0</td>\n",
       "    </tr>\n",
       "    <tr>\n",
       "      <th>36</th>\n",
       "      <td>10.664474</td>\n",
       "      <td>1.565769</td>\n",
       "      <td>4.886521</td>\n",
       "      <td>1.0</td>\n",
       "      <td>0.0</td>\n",
       "      <td>0.0</td>\n",
       "      <td>1.0</td>\n",
       "      <td>1.0</td>\n",
       "    </tr>\n",
       "    <tr>\n",
       "      <th>...</th>\n",
       "      <td>...</td>\n",
       "      <td>...</td>\n",
       "      <td>...</td>\n",
       "      <td>...</td>\n",
       "      <td>...</td>\n",
       "      <td>...</td>\n",
       "      <td>...</td>\n",
       "      <td>...</td>\n",
       "    </tr>\n",
       "    <tr>\n",
       "      <th>999908</th>\n",
       "      <td>45.296658</td>\n",
       "      <td>0.882736</td>\n",
       "      <td>8.856861</td>\n",
       "      <td>1.0</td>\n",
       "      <td>0.0</td>\n",
       "      <td>0.0</td>\n",
       "      <td>1.0</td>\n",
       "      <td>1.0</td>\n",
       "    </tr>\n",
       "    <tr>\n",
       "      <th>999916</th>\n",
       "      <td>167.139756</td>\n",
       "      <td>0.282253</td>\n",
       "      <td>0.308468</td>\n",
       "      <td>1.0</td>\n",
       "      <td>0.0</td>\n",
       "      <td>0.0</td>\n",
       "      <td>1.0</td>\n",
       "      <td>1.0</td>\n",
       "    </tr>\n",
       "    <tr>\n",
       "      <th>999919</th>\n",
       "      <td>124.640118</td>\n",
       "      <td>0.004416</td>\n",
       "      <td>0.434885</td>\n",
       "      <td>1.0</td>\n",
       "      <td>0.0</td>\n",
       "      <td>0.0</td>\n",
       "      <td>1.0</td>\n",
       "      <td>1.0</td>\n",
       "    </tr>\n",
       "    <tr>\n",
       "      <th>999939</th>\n",
       "      <td>51.412900</td>\n",
       "      <td>3.429330</td>\n",
       "      <td>29.914254</td>\n",
       "      <td>1.0</td>\n",
       "      <td>0.0</td>\n",
       "      <td>0.0</td>\n",
       "      <td>1.0</td>\n",
       "      <td>1.0</td>\n",
       "    </tr>\n",
       "    <tr>\n",
       "      <th>999949</th>\n",
       "      <td>15.724799</td>\n",
       "      <td>1.875906</td>\n",
       "      <td>11.009366</td>\n",
       "      <td>1.0</td>\n",
       "      <td>1.0</td>\n",
       "      <td>0.0</td>\n",
       "      <td>1.0</td>\n",
       "      <td>1.0</td>\n",
       "    </tr>\n",
       "  </tbody>\n",
       "</table>\n",
       "<p>87403 rows × 8 columns</p>\n",
       "</div>"
      ],
      "text/plain": [
       "        distance_from_home  distance_from_last_transaction  \\\n",
       "13                2.131956                       56.372401   \n",
       "24                3.803057                       67.241081   \n",
       "29               15.694986                      175.989182   \n",
       "35               26.711462                        1.552008   \n",
       "36               10.664474                        1.565769   \n",
       "...                    ...                             ...   \n",
       "999908           45.296658                        0.882736   \n",
       "999916          167.139756                        0.282253   \n",
       "999919          124.640118                        0.004416   \n",
       "999939           51.412900                        3.429330   \n",
       "999949           15.724799                        1.875906   \n",
       "\n",
       "        ratio_to_median_purchase_price  repeat_retailer  used_chip  \\\n",
       "13                            6.358667              1.0        0.0   \n",
       "24                            1.872950              1.0        0.0   \n",
       "29                            0.855623              1.0        0.0   \n",
       "35                            4.603601              1.0        1.0   \n",
       "36                            4.886521              1.0        0.0   \n",
       "...                                ...              ...        ...   \n",
       "999908                        8.856861              1.0        0.0   \n",
       "999916                        0.308468              1.0        0.0   \n",
       "999919                        0.434885              1.0        0.0   \n",
       "999939                       29.914254              1.0        0.0   \n",
       "999949                       11.009366              1.0        1.0   \n",
       "\n",
       "        used_pin_number  online_order  fraud  \n",
       "13                  0.0           1.0    1.0  \n",
       "24                  0.0           1.0    1.0  \n",
       "29                  0.0           1.0    1.0  \n",
       "35                  0.0           1.0    1.0  \n",
       "36                  0.0           1.0    1.0  \n",
       "...                 ...           ...    ...  \n",
       "999908              0.0           1.0    1.0  \n",
       "999916              0.0           1.0    1.0  \n",
       "999919              0.0           1.0    1.0  \n",
       "999939              0.0           1.0    1.0  \n",
       "999949              0.0           1.0    1.0  \n",
       "\n",
       "[87403 rows x 8 columns]"
      ]
     },
     "execution_count": 47,
     "metadata": {},
     "output_type": "execute_result"
    }
   ],
   "source": [
    "df[df['fraud']==1]"
   ]
  },
  {
   "cell_type": "code",
   "execution_count": 48,
   "id": "9c187c5a",
   "metadata": {
    "execution": {
     "iopub.execute_input": "2022-06-05T11:58:59.306570Z",
     "iopub.status.busy": "2022-06-05T11:58:59.306175Z",
     "iopub.status.idle": "2022-06-05T11:58:59.316173Z",
     "shell.execute_reply": "2022-06-05T11:58:59.315260Z"
    },
    "papermill": {
     "duration": 0.040816,
     "end_time": "2022-06-05T11:58:59.318161",
     "exception": false,
     "start_time": "2022-06-05T11:58:59.277345",
     "status": "completed"
    },
    "tags": []
   },
   "outputs": [
    {
     "data": {
      "text/html": [
       "<div>\n",
       "<style scoped>\n",
       "    .dataframe tbody tr th:only-of-type {\n",
       "        vertical-align: middle;\n",
       "    }\n",
       "\n",
       "    .dataframe tbody tr th {\n",
       "        vertical-align: top;\n",
       "    }\n",
       "\n",
       "    .dataframe thead th {\n",
       "        text-align: right;\n",
       "    }\n",
       "</style>\n",
       "<table border=\"1\" class=\"dataframe\">\n",
       "  <thead>\n",
       "    <tr style=\"text-align: right;\">\n",
       "      <th></th>\n",
       "      <th>distance_from_home</th>\n",
       "      <th>ratio_to_median_purchase_price</th>\n",
       "    </tr>\n",
       "  </thead>\n",
       "  <tbody>\n",
       "    <tr>\n",
       "      <th>506532</th>\n",
       "      <td>10.765062</td>\n",
       "      <td>0.210220</td>\n",
       "    </tr>\n",
       "    <tr>\n",
       "      <th>327991</th>\n",
       "      <td>2.896660</td>\n",
       "      <td>5.320762</td>\n",
       "    </tr>\n",
       "    <tr>\n",
       "      <th>715937</th>\n",
       "      <td>3.643442</td>\n",
       "      <td>1.947841</td>\n",
       "    </tr>\n",
       "    <tr>\n",
       "      <th>860726</th>\n",
       "      <td>12.966595</td>\n",
       "      <td>0.158173</td>\n",
       "    </tr>\n",
       "    <tr>\n",
       "      <th>78617</th>\n",
       "      <td>5.303473</td>\n",
       "      <td>0.331516</td>\n",
       "    </tr>\n",
       "  </tbody>\n",
       "</table>\n",
       "</div>"
      ],
      "text/plain": [
       "        distance_from_home  ratio_to_median_purchase_price\n",
       "506532           10.765062                        0.210220\n",
       "327991            2.896660                        5.320762\n",
       "715937            3.643442                        1.947841\n",
       "860726           12.966595                        0.158173\n",
       "78617             5.303473                        0.331516"
      ]
     },
     "execution_count": 48,
     "metadata": {},
     "output_type": "execute_result"
    }
   ],
   "source": [
    "X_train.head()"
   ]
  },
  {
   "cell_type": "code",
   "execution_count": 49,
   "id": "1f8d1db0",
   "metadata": {
    "execution": {
     "iopub.execute_input": "2022-06-05T11:58:59.376889Z",
     "iopub.status.busy": "2022-06-05T11:58:59.376502Z",
     "iopub.status.idle": "2022-06-05T11:58:59.381279Z",
     "shell.execute_reply": "2022-06-05T11:58:59.380244Z"
    },
    "papermill": {
     "duration": 0.035968,
     "end_time": "2022-06-05T11:58:59.383278",
     "exception": false,
     "start_time": "2022-06-05T11:58:59.347310",
     "status": "completed"
    },
    "tags": []
   },
   "outputs": [],
   "source": [
    "data = {\n",
    "    'distance_from_home':2.131956,\n",
    "    'ratio_to_median_purchase_price':6.358667\n",
    "}"
   ]
  },
  {
   "cell_type": "code",
   "execution_count": 50,
   "id": "2dc59c79",
   "metadata": {
    "execution": {
     "iopub.execute_input": "2022-06-05T11:58:59.441467Z",
     "iopub.status.busy": "2022-06-05T11:58:59.440775Z",
     "iopub.status.idle": "2022-06-05T11:58:59.444805Z",
     "shell.execute_reply": "2022-06-05T11:58:59.444082Z"
    },
    "papermill": {
     "duration": 0.035039,
     "end_time": "2022-06-05T11:58:59.446682",
     "exception": false,
     "start_time": "2022-06-05T11:58:59.411643",
     "status": "completed"
    },
    "tags": []
   },
   "outputs": [],
   "source": [
    "s = list(data.values())"
   ]
  },
  {
   "cell_type": "code",
   "execution_count": 51,
   "id": "93b3aa8b",
   "metadata": {
    "execution": {
     "iopub.execute_input": "2022-06-05T11:58:59.504579Z",
     "iopub.status.busy": "2022-06-05T11:58:59.503889Z",
     "iopub.status.idle": "2022-06-05T11:58:59.524830Z",
     "shell.execute_reply": "2022-06-05T11:58:59.523786Z"
    },
    "papermill": {
     "duration": 0.053695,
     "end_time": "2022-06-05T11:58:59.528312",
     "exception": false,
     "start_time": "2022-06-05T11:58:59.474617",
     "status": "completed"
    },
    "tags": []
   },
   "outputs": [
    {
     "name": "stderr",
     "output_type": "stream",
     "text": [
      "/opt/conda/lib/python3.7/site-packages/sklearn/base.py:451: UserWarning: X does not have valid feature names, but RandomForestClassifier was fitted with feature names\n",
      "  \"X does not have valid feature names, but\"\n"
     ]
    },
    {
     "data": {
      "text/plain": [
       "array([1.])"
      ]
     },
     "execution_count": 51,
     "metadata": {},
     "output_type": "execute_result"
    }
   ],
   "source": [
    "model_predict.predict([s])"
   ]
  },
  {
   "cell_type": "code",
   "execution_count": 52,
   "id": "330fdcd7",
   "metadata": {
    "execution": {
     "iopub.execute_input": "2022-06-05T11:58:59.587694Z",
     "iopub.status.busy": "2022-06-05T11:58:59.587134Z",
     "iopub.status.idle": "2022-06-05T11:59:00.767802Z",
     "shell.execute_reply": "2022-06-05T11:59:00.766829Z"
    },
    "papermill": {
     "duration": 1.212296,
     "end_time": "2022-06-05T11:59:00.770140",
     "exception": false,
     "start_time": "2022-06-05T11:58:59.557844",
     "status": "completed"
    },
    "tags": []
   },
   "outputs": [],
   "source": [
    "df1=pd.read_csv('/kaggle/input/credit-card-fraud/card_transdata.csv')"
   ]
  },
  {
   "cell_type": "code",
   "execution_count": 53,
   "id": "2a35cf6e",
   "metadata": {
    "execution": {
     "iopub.execute_input": "2022-06-05T11:59:00.828593Z",
     "iopub.status.busy": "2022-06-05T11:59:00.828212Z",
     "iopub.status.idle": "2022-06-05T11:59:00.862907Z",
     "shell.execute_reply": "2022-06-05T11:59:00.862205Z"
    },
    "papermill": {
     "duration": 0.06606,
     "end_time": "2022-06-05T11:59:00.864723",
     "exception": false,
     "start_time": "2022-06-05T11:59:00.798663",
     "status": "completed"
    },
    "tags": []
   },
   "outputs": [
    {
     "data": {
      "text/html": [
       "<div>\n",
       "<style scoped>\n",
       "    .dataframe tbody tr th:only-of-type {\n",
       "        vertical-align: middle;\n",
       "    }\n",
       "\n",
       "    .dataframe tbody tr th {\n",
       "        vertical-align: top;\n",
       "    }\n",
       "\n",
       "    .dataframe thead th {\n",
       "        text-align: right;\n",
       "    }\n",
       "</style>\n",
       "<table border=\"1\" class=\"dataframe\">\n",
       "  <thead>\n",
       "    <tr style=\"text-align: right;\">\n",
       "      <th></th>\n",
       "      <th>distance_from_home</th>\n",
       "      <th>distance_from_last_transaction</th>\n",
       "      <th>ratio_to_median_purchase_price</th>\n",
       "      <th>repeat_retailer</th>\n",
       "      <th>used_chip</th>\n",
       "      <th>used_pin_number</th>\n",
       "      <th>online_order</th>\n",
       "      <th>fraud</th>\n",
       "    </tr>\n",
       "  </thead>\n",
       "  <tbody>\n",
       "    <tr>\n",
       "      <th>13</th>\n",
       "      <td>2.131956</td>\n",
       "      <td>56.372401</td>\n",
       "      <td>6.358667</td>\n",
       "      <td>1.0</td>\n",
       "      <td>0.0</td>\n",
       "      <td>0.0</td>\n",
       "      <td>1.0</td>\n",
       "      <td>1.0</td>\n",
       "    </tr>\n",
       "    <tr>\n",
       "      <th>24</th>\n",
       "      <td>3.803057</td>\n",
       "      <td>67.241081</td>\n",
       "      <td>1.872950</td>\n",
       "      <td>1.0</td>\n",
       "      <td>0.0</td>\n",
       "      <td>0.0</td>\n",
       "      <td>1.0</td>\n",
       "      <td>1.0</td>\n",
       "    </tr>\n",
       "    <tr>\n",
       "      <th>29</th>\n",
       "      <td>15.694986</td>\n",
       "      <td>175.989182</td>\n",
       "      <td>0.855623</td>\n",
       "      <td>1.0</td>\n",
       "      <td>0.0</td>\n",
       "      <td>0.0</td>\n",
       "      <td>1.0</td>\n",
       "      <td>1.0</td>\n",
       "    </tr>\n",
       "    <tr>\n",
       "      <th>35</th>\n",
       "      <td>26.711462</td>\n",
       "      <td>1.552008</td>\n",
       "      <td>4.603601</td>\n",
       "      <td>1.0</td>\n",
       "      <td>1.0</td>\n",
       "      <td>0.0</td>\n",
       "      <td>1.0</td>\n",
       "      <td>1.0</td>\n",
       "    </tr>\n",
       "    <tr>\n",
       "      <th>36</th>\n",
       "      <td>10.664474</td>\n",
       "      <td>1.565769</td>\n",
       "      <td>4.886521</td>\n",
       "      <td>1.0</td>\n",
       "      <td>0.0</td>\n",
       "      <td>0.0</td>\n",
       "      <td>1.0</td>\n",
       "      <td>1.0</td>\n",
       "    </tr>\n",
       "    <tr>\n",
       "      <th>...</th>\n",
       "      <td>...</td>\n",
       "      <td>...</td>\n",
       "      <td>...</td>\n",
       "      <td>...</td>\n",
       "      <td>...</td>\n",
       "      <td>...</td>\n",
       "      <td>...</td>\n",
       "      <td>...</td>\n",
       "    </tr>\n",
       "    <tr>\n",
       "      <th>999908</th>\n",
       "      <td>45.296658</td>\n",
       "      <td>0.882736</td>\n",
       "      <td>8.856861</td>\n",
       "      <td>1.0</td>\n",
       "      <td>0.0</td>\n",
       "      <td>0.0</td>\n",
       "      <td>1.0</td>\n",
       "      <td>1.0</td>\n",
       "    </tr>\n",
       "    <tr>\n",
       "      <th>999916</th>\n",
       "      <td>167.139756</td>\n",
       "      <td>0.282253</td>\n",
       "      <td>0.308468</td>\n",
       "      <td>1.0</td>\n",
       "      <td>0.0</td>\n",
       "      <td>0.0</td>\n",
       "      <td>1.0</td>\n",
       "      <td>1.0</td>\n",
       "    </tr>\n",
       "    <tr>\n",
       "      <th>999919</th>\n",
       "      <td>124.640118</td>\n",
       "      <td>0.004416</td>\n",
       "      <td>0.434885</td>\n",
       "      <td>1.0</td>\n",
       "      <td>0.0</td>\n",
       "      <td>0.0</td>\n",
       "      <td>1.0</td>\n",
       "      <td>1.0</td>\n",
       "    </tr>\n",
       "    <tr>\n",
       "      <th>999939</th>\n",
       "      <td>51.412900</td>\n",
       "      <td>3.429330</td>\n",
       "      <td>29.914254</td>\n",
       "      <td>1.0</td>\n",
       "      <td>0.0</td>\n",
       "      <td>0.0</td>\n",
       "      <td>1.0</td>\n",
       "      <td>1.0</td>\n",
       "    </tr>\n",
       "    <tr>\n",
       "      <th>999949</th>\n",
       "      <td>15.724799</td>\n",
       "      <td>1.875906</td>\n",
       "      <td>11.009366</td>\n",
       "      <td>1.0</td>\n",
       "      <td>1.0</td>\n",
       "      <td>0.0</td>\n",
       "      <td>1.0</td>\n",
       "      <td>1.0</td>\n",
       "    </tr>\n",
       "  </tbody>\n",
       "</table>\n",
       "<p>87403 rows × 8 columns</p>\n",
       "</div>"
      ],
      "text/plain": [
       "        distance_from_home  distance_from_last_transaction  \\\n",
       "13                2.131956                       56.372401   \n",
       "24                3.803057                       67.241081   \n",
       "29               15.694986                      175.989182   \n",
       "35               26.711462                        1.552008   \n",
       "36               10.664474                        1.565769   \n",
       "...                    ...                             ...   \n",
       "999908           45.296658                        0.882736   \n",
       "999916          167.139756                        0.282253   \n",
       "999919          124.640118                        0.004416   \n",
       "999939           51.412900                        3.429330   \n",
       "999949           15.724799                        1.875906   \n",
       "\n",
       "        ratio_to_median_purchase_price  repeat_retailer  used_chip  \\\n",
       "13                            6.358667              1.0        0.0   \n",
       "24                            1.872950              1.0        0.0   \n",
       "29                            0.855623              1.0        0.0   \n",
       "35                            4.603601              1.0        1.0   \n",
       "36                            4.886521              1.0        0.0   \n",
       "...                                ...              ...        ...   \n",
       "999908                        8.856861              1.0        0.0   \n",
       "999916                        0.308468              1.0        0.0   \n",
       "999919                        0.434885              1.0        0.0   \n",
       "999939                       29.914254              1.0        0.0   \n",
       "999949                       11.009366              1.0        1.0   \n",
       "\n",
       "        used_pin_number  online_order  fraud  \n",
       "13                  0.0           1.0    1.0  \n",
       "24                  0.0           1.0    1.0  \n",
       "29                  0.0           1.0    1.0  \n",
       "35                  0.0           1.0    1.0  \n",
       "36                  0.0           1.0    1.0  \n",
       "...                 ...           ...    ...  \n",
       "999908              0.0           1.0    1.0  \n",
       "999916              0.0           1.0    1.0  \n",
       "999919              0.0           1.0    1.0  \n",
       "999939              0.0           1.0    1.0  \n",
       "999949              0.0           1.0    1.0  \n",
       "\n",
       "[87403 rows x 8 columns]"
      ]
     },
     "execution_count": 53,
     "metadata": {},
     "output_type": "execute_result"
    }
   ],
   "source": [
    "df1[df1['fraud']==1]"
   ]
  },
  {
   "cell_type": "code",
   "execution_count": null,
   "id": "8af69abd",
   "metadata": {
    "papermill": {
     "duration": 0.028414,
     "end_time": "2022-06-05T11:59:00.923941",
     "exception": false,
     "start_time": "2022-06-05T11:59:00.895527",
     "status": "completed"
    },
    "tags": []
   },
   "outputs": [],
   "source": []
  },
  {
   "cell_type": "code",
   "execution_count": null,
   "id": "2d8acced",
   "metadata": {
    "papermill": {
     "duration": 0.028246,
     "end_time": "2022-06-05T11:59:00.981496",
     "exception": false,
     "start_time": "2022-06-05T11:59:00.953250",
     "status": "completed"
    },
    "tags": []
   },
   "outputs": [],
   "source": []
  },
  {
   "cell_type": "code",
   "execution_count": null,
   "id": "8e220085",
   "metadata": {
    "papermill": {
     "duration": 0.034028,
     "end_time": "2022-06-05T11:59:01.045195",
     "exception": false,
     "start_time": "2022-06-05T11:59:01.011167",
     "status": "completed"
    },
    "tags": []
   },
   "outputs": [],
   "source": []
  },
  {
   "cell_type": "code",
   "execution_count": null,
   "id": "d02b010c",
   "metadata": {
    "papermill": {
     "duration": 0.033528,
     "end_time": "2022-06-05T11:59:01.113137",
     "exception": false,
     "start_time": "2022-06-05T11:59:01.079609",
     "status": "completed"
    },
    "tags": []
   },
   "outputs": [],
   "source": []
  },
  {
   "cell_type": "code",
   "execution_count": null,
   "id": "a7513498",
   "metadata": {
    "papermill": {
     "duration": 0.03377,
     "end_time": "2022-06-05T11:59:01.181048",
     "exception": false,
     "start_time": "2022-06-05T11:59:01.147278",
     "status": "completed"
    },
    "tags": []
   },
   "outputs": [],
   "source": []
  },
  {
   "cell_type": "code",
   "execution_count": null,
   "id": "114e500d",
   "metadata": {
    "papermill": {
     "duration": 0.033637,
     "end_time": "2022-06-05T11:59:01.248573",
     "exception": false,
     "start_time": "2022-06-05T11:59:01.214936",
     "status": "completed"
    },
    "tags": []
   },
   "outputs": [],
   "source": []
  }
 ],
 "metadata": {
  "kernelspec": {
   "display_name": "Python 3",
   "language": "python",
   "name": "python3"
  },
  "language_info": {
   "codemirror_mode": {
    "name": "ipython",
    "version": 3
   },
   "file_extension": ".py",
   "mimetype": "text/x-python",
   "name": "python",
   "nbconvert_exporter": "python",
   "pygments_lexer": "ipython3",
   "version": "3.7.12"
  },
  "papermill": {
   "default_parameters": {},
   "duration": 558.596336,
   "end_time": "2022-06-05T11:59:02.100921",
   "environment_variables": {},
   "exception": null,
   "input_path": "__notebook__.ipynb",
   "output_path": "__notebook__.ipynb",
   "parameters": {},
   "start_time": "2022-06-05T11:49:43.504585",
   "version": "2.3.4"
  }
 },
 "nbformat": 4,
 "nbformat_minor": 5
}
